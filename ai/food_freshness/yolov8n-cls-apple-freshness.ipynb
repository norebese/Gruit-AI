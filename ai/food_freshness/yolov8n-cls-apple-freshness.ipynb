{
  "cells": [
    {
      "cell_type": "code",
      "execution_count": null,
      "metadata": {
        "colab": {
          "base_uri": "https://localhost:8080/"
        },
        "collapsed": true,
        "id": "Vf7jnymfGTdV",
        "outputId": "32f376b9-c92a-4366-e99b-570e00fcdbea"
      },
      "outputs": [],
      "source": [
        "!pip install ultralytics"
      ]
    },
    {
      "cell_type": "code",
      "execution_count": null,
      "metadata": {
        "colab": {
          "base_uri": "https://localhost:8080/"
        },
        "id": "viwIwPwfGeGP",
        "outputId": "853eb34f-e649-4473-9e61-6550658b0499"
      },
      "outputs": [
        {
          "name": "stdout",
          "output_type": "stream",
          "text": [
            "YOLOv8n-cls summary: 99 layers, 2,719,288 parameters, 2,719,288 gradients, 4.4 GFLOPs\n",
            "Downloading https://github.com/ultralytics/assets/releases/download/v8.2.0/yolov8n-cls.pt to 'yolov8n-cls.pt'...\n"
          ]
        },
        {
          "name": "stderr",
          "output_type": "stream",
          "text": [
            "100%|██████████| 5.31M/5.31M [00:00<00:00, 96.3MB/s]\n"
          ]
        },
        {
          "name": "stdout",
          "output_type": "stream",
          "text": [
            "YOLOv8n-cls summary: 99 layers, 2,719,288 parameters, 2,719,288 gradients, 4.4 GFLOPs\n",
            "Transferred 158/158 items from pretrained weights\n",
            "Ultralytics YOLOv8.2.84 🚀 Python-3.10.12 torch-2.4.0+cu121 CUDA:0 (Tesla T4, 15102MiB)\n",
            "\u001b[34m\u001b[1mengine/trainer: \u001b[0mtask=classify, mode=train, model=yolov8n-cls.yaml, data=/content/drive/MyDrive/apple fresh/dataset4_augment, epochs=100, time=None, patience=5, batch=16, imgsz=640, save=True, save_period=-1, cache=False, device=None, workers=8, project=None, name=train, exist_ok=False, pretrained=yolov8n-cls.pt, optimizer=auto, verbose=True, seed=0, deterministic=True, single_cls=True, rect=False, cos_lr=False, close_mosaic=10, resume=False, amp=True, fraction=1.0, profile=False, freeze=None, multi_scale=False, overlap_mask=True, mask_ratio=4, dropout=0.0, val=True, split=val, save_json=False, save_hybrid=False, conf=None, iou=0.7, max_det=300, half=False, dnn=False, plots=True, source=None, vid_stride=1, stream_buffer=False, visualize=False, augment=True, agnostic_nms=False, classes=None, retina_masks=False, embed=None, show=False, save_frames=False, save_txt=False, save_conf=False, save_crop=False, show_labels=True, show_conf=True, show_boxes=True, line_width=None, format=torchscript, keras=False, optimize=False, int8=False, dynamic=False, simplify=False, opset=None, workspace=4, nms=False, lr0=0.01, lrf=0.01, momentum=0.937, weight_decay=0.0005, warmup_epochs=3.0, warmup_momentum=0.8, warmup_bias_lr=0.1, box=7.5, cls=0.5, dfl=1.5, pose=12.0, kobj=1.0, label_smoothing=0.0, nbs=64, hsv_h=0.015, hsv_s=0.7, hsv_v=0.4, degrees=0.0, translate=0.1, scale=0.5, shear=0.0, perspective=0.0, flipud=0.0, fliplr=0.5, bgr=0.0, mosaic=1.0, mixup=0.0, copy_paste=0.0, auto_augment=randaugment, erasing=0.4, crop_fraction=1.0, cfg=None, tracker=botsort.yaml, save_dir=runs/classify/train\n",
            "\u001b[34m\u001b[1mtrain:\u001b[0m /content/drive/MyDrive/apple fresh/dataset4_augment/train... found 4820 images in 2 classes ✅ \n",
            "\u001b[34m\u001b[1mval:\u001b[0m None...\n",
            "\u001b[34m\u001b[1mtest:\u001b[0m /content/drive/MyDrive/apple fresh/dataset4_augment/test... found 1204 images in 2 classes ✅ \n",
            "Overriding model.yaml nc=1000 with nc=2\n",
            "\n",
            "                   from  n    params  module                                       arguments                     \n",
            "  0                  -1  1       464  ultralytics.nn.modules.conv.Conv             [3, 16, 3, 2]                 \n",
            "  1                  -1  1      4672  ultralytics.nn.modules.conv.Conv             [16, 32, 3, 2]                \n",
            "  2                  -1  1      7360  ultralytics.nn.modules.block.C2f             [32, 32, 1, True]             \n",
            "  3                  -1  1     18560  ultralytics.nn.modules.conv.Conv             [32, 64, 3, 2]                \n",
            "  4                  -1  2     49664  ultralytics.nn.modules.block.C2f             [64, 64, 2, True]             \n",
            "  5                  -1  1     73984  ultralytics.nn.modules.conv.Conv             [64, 128, 3, 2]               \n",
            "  6                  -1  2    197632  ultralytics.nn.modules.block.C2f             [128, 128, 2, True]           \n",
            "  7                  -1  1    295424  ultralytics.nn.modules.conv.Conv             [128, 256, 3, 2]              \n",
            "  8                  -1  1    460288  ultralytics.nn.modules.block.C2f             [256, 256, 1, True]           \n",
            "  9                  -1  1    332802  ultralytics.nn.modules.head.Classify         [256, 2]                      \n",
            "YOLOv8n-cls summary: 99 layers, 1,440,850 parameters, 1,440,850 gradients, 3.4 GFLOPs\n",
            "Transferred 156/158 items from pretrained weights\n",
            "\u001b[34m\u001b[1mTensorBoard: \u001b[0mStart with 'tensorboard --logdir runs/classify/train', view at http://localhost:6006/\n",
            "\u001b[34m\u001b[1mAMP: \u001b[0mrunning Automatic Mixed Precision (AMP) checks with YOLOv8n...\n",
            "Downloading https://github.com/ultralytics/assets/releases/download/v8.2.0/yolov8n.pt to 'yolov8n.pt'...\n"
          ]
        },
        {
          "name": "stderr",
          "output_type": "stream",
          "text": [
            "100%|██████████| 6.25M/6.25M [00:00<00:00, 128MB/s]\n"
          ]
        },
        {
          "name": "stdout",
          "output_type": "stream",
          "text": [
            "\u001b[34m\u001b[1mAMP: \u001b[0mchecks passed ✅\n"
          ]
        },
        {
          "name": "stderr",
          "output_type": "stream",
          "text": [
            "/usr/local/lib/python3.10/dist-packages/ultralytics/engine/trainer.py:268: FutureWarning: `torch.cuda.amp.GradScaler(args...)` is deprecated. Please use `torch.amp.GradScaler('cuda', args...)` instead.\n",
            "  self.scaler = torch.cuda.amp.GradScaler(enabled=self.amp)\n",
            "\u001b[34m\u001b[1mtrain: \u001b[0mScanning /content/drive/MyDrive/apple fresh/dataset4_augment/train... 4820 images, 0 corrupt: 100%|██████████| 4820/4820 [14:59<00:00,  5.36it/s]\n"
          ]
        },
        {
          "name": "stdout",
          "output_type": "stream",
          "text": [
            "\u001b[34m\u001b[1mtrain: \u001b[0mNew cache created: /content/drive/MyDrive/apple fresh/dataset4_augment/train.cache\n"
          ]
        },
        {
          "name": "stderr",
          "output_type": "stream",
          "text": [
            "/usr/lib/python3.10/multiprocessing/popen_fork.py:66: RuntimeWarning: os.fork() was called. os.fork() is incompatible with multithreaded code, and JAX is multithreaded, so this will likely lead to a deadlock.\n",
            "  self.pid = os.fork()\n",
            "\u001b[34m\u001b[1mval: \u001b[0mScanning /content/drive/MyDrive/apple fresh/dataset4_augment/test... 1204 images, 0 corrupt: 100%|██████████| 1204/1204 [03:46<00:00,  5.33it/s]\n"
          ]
        },
        {
          "name": "stdout",
          "output_type": "stream",
          "text": [
            "\u001b[34m\u001b[1mval: \u001b[0mNew cache created: /content/drive/MyDrive/apple fresh/dataset4_augment/test.cache\n",
            "\u001b[34m\u001b[1moptimizer:\u001b[0m 'optimizer=auto' found, ignoring 'lr0=0.01' and 'momentum=0.937' and determining best 'optimizer', 'lr0' and 'momentum' automatically... \n",
            "\u001b[34m\u001b[1moptimizer:\u001b[0m AdamW(lr=0.000714, momentum=0.9) with parameter groups 26 weight(decay=0.0), 27 weight(decay=0.0005), 27 bias(decay=0.0)\n",
            "\u001b[34m\u001b[1mTensorBoard: \u001b[0mmodel graph visualization added ✅\n",
            "Image sizes 640 train, 640 val\n",
            "Using 2 dataloader workers\n",
            "Logging results to \u001b[1mruns/classify/train\u001b[0m\n",
            "Starting training for 100 epochs...\n",
            "\n",
            "      Epoch    GPU_mem       loss  Instances       Size\n"
          ]
        },
        {
          "name": "stderr",
          "output_type": "stream",
          "text": [
            "      1/100      1.81G     0.7397         16        640:   2%|▏         | 5/302 [00:01<01:15,  3.95it/s]"
          ]
        },
        {
          "name": "stdout",
          "output_type": "stream",
          "text": [
            "Downloading https://ultralytics.com/assets/Arial.ttf to '/root/.config/Ultralytics/Arial.ttf'...\n"
          ]
        },
        {
          "name": "stderr",
          "output_type": "stream",
          "text": [
            "\n",
            "100%|██████████| 755k/755k [00:00<00:00, 17.4MB/s]\n",
            "      1/100      1.81G     0.3333          4        640: 100%|██████████| 302/302 [03:35<00:00,  1.40it/s]\n",
            "               classes   top1_acc   top5_acc: 100%|██████████| 38/38 [00:24<00:00,  1.58it/s]"
          ]
        },
        {
          "name": "stdout",
          "output_type": "stream",
          "text": [
            "                   all       0.99          1\n"
          ]
        },
        {
          "name": "stderr",
          "output_type": "stream",
          "text": [
            "\n"
          ]
        },
        {
          "name": "stdout",
          "output_type": "stream",
          "text": [
            "\n",
            "      Epoch    GPU_mem       loss  Instances       Size\n"
          ]
        },
        {
          "name": "stderr",
          "output_type": "stream",
          "text": [
            "      2/100      1.56G     0.1323          4        640: 100%|██████████| 302/302 [03:34<00:00,  1.41it/s]\n",
            "               classes   top1_acc   top5_acc: 100%|██████████| 38/38 [00:25<00:00,  1.52it/s]"
          ]
        },
        {
          "name": "stdout",
          "output_type": "stream",
          "text": [
            "                   all      0.988          1\n"
          ]
        },
        {
          "name": "stderr",
          "output_type": "stream",
          "text": [
            "\n"
          ]
        },
        {
          "name": "stdout",
          "output_type": "stream",
          "text": [
            "\n",
            "      Epoch    GPU_mem       loss  Instances       Size\n"
          ]
        },
        {
          "name": "stderr",
          "output_type": "stream",
          "text": [
            "      3/100      1.56G    0.09152          4        640: 100%|██████████| 302/302 [03:34<00:00,  1.41it/s]\n",
            "               classes   top1_acc   top5_acc: 100%|██████████| 38/38 [00:25<00:00,  1.52it/s]"
          ]
        },
        {
          "name": "stdout",
          "output_type": "stream",
          "text": [
            "                   all      0.998          1\n"
          ]
        },
        {
          "name": "stderr",
          "output_type": "stream",
          "text": [
            "\n"
          ]
        },
        {
          "name": "stdout",
          "output_type": "stream",
          "text": [
            "\n",
            "      Epoch    GPU_mem       loss  Instances       Size\n"
          ]
        },
        {
          "name": "stderr",
          "output_type": "stream",
          "text": [
            "      4/100      1.56G    0.08926          4        640: 100%|██████████| 302/302 [03:31<00:00,  1.42it/s]\n",
            "               classes   top1_acc   top5_acc: 100%|██████████| 38/38 [00:24<00:00,  1.57it/s]"
          ]
        },
        {
          "name": "stdout",
          "output_type": "stream",
          "text": [
            "                   all      0.998          1\n"
          ]
        },
        {
          "name": "stderr",
          "output_type": "stream",
          "text": [
            "\n"
          ]
        },
        {
          "name": "stdout",
          "output_type": "stream",
          "text": [
            "\n",
            "      Epoch    GPU_mem       loss  Instances       Size\n"
          ]
        },
        {
          "name": "stderr",
          "output_type": "stream",
          "text": [
            "      5/100      1.56G    0.05689          4        640: 100%|██████████| 302/302 [03:32<00:00,  1.42it/s]\n",
            "               classes   top1_acc   top5_acc: 100%|██████████| 38/38 [00:25<00:00,  1.47it/s]"
          ]
        },
        {
          "name": "stdout",
          "output_type": "stream",
          "text": [
            "                   all      0.998          1\n"
          ]
        },
        {
          "name": "stderr",
          "output_type": "stream",
          "text": [
            "\n"
          ]
        },
        {
          "name": "stdout",
          "output_type": "stream",
          "text": [
            "\n",
            "      Epoch    GPU_mem       loss  Instances       Size\n"
          ]
        },
        {
          "name": "stderr",
          "output_type": "stream",
          "text": [
            "      6/100      1.56G     0.0459          4        640: 100%|██████████| 302/302 [03:32<00:00,  1.42it/s]\n",
            "               classes   top1_acc   top5_acc: 100%|██████████| 38/38 [00:24<00:00,  1.58it/s]"
          ]
        },
        {
          "name": "stdout",
          "output_type": "stream",
          "text": [
            "                   all       0.99          1\n"
          ]
        },
        {
          "name": "stderr",
          "output_type": "stream",
          "text": [
            "\n"
          ]
        },
        {
          "name": "stdout",
          "output_type": "stream",
          "text": [
            "\n",
            "      Epoch    GPU_mem       loss  Instances       Size\n"
          ]
        },
        {
          "name": "stderr",
          "output_type": "stream",
          "text": [
            "      7/100      1.56G    0.03853          4        640: 100%|██████████| 302/302 [03:31<00:00,  1.43it/s]\n",
            "               classes   top1_acc   top5_acc: 100%|██████████| 38/38 [00:25<00:00,  1.47it/s]"
          ]
        },
        {
          "name": "stdout",
          "output_type": "stream",
          "text": [
            "                   all      0.998          1\n"
          ]
        },
        {
          "name": "stderr",
          "output_type": "stream",
          "text": [
            "\n"
          ]
        },
        {
          "name": "stdout",
          "output_type": "stream",
          "text": [
            "\n",
            "      Epoch    GPU_mem       loss  Instances       Size\n"
          ]
        },
        {
          "name": "stderr",
          "output_type": "stream",
          "text": [
            "      8/100      1.56G    0.02797          4        640: 100%|██████████| 302/302 [03:32<00:00,  1.42it/s]\n",
            "               classes   top1_acc   top5_acc: 100%|██████████| 38/38 [00:23<00:00,  1.61it/s]"
          ]
        },
        {
          "name": "stdout",
          "output_type": "stream",
          "text": [
            "                   all          1          1\n"
          ]
        },
        {
          "name": "stderr",
          "output_type": "stream",
          "text": [
            "\n"
          ]
        },
        {
          "name": "stdout",
          "output_type": "stream",
          "text": [
            "\n",
            "      Epoch    GPU_mem       loss  Instances       Size\n"
          ]
        },
        {
          "name": "stderr",
          "output_type": "stream",
          "text": [
            "      9/100      1.56G    0.02678          4        640: 100%|██████████| 302/302 [03:39<00:00,  1.38it/s]\n",
            "               classes   top1_acc   top5_acc: 100%|██████████| 38/38 [00:26<00:00,  1.44it/s]"
          ]
        },
        {
          "name": "stdout",
          "output_type": "stream",
          "text": [
            "                   all          1          1\n"
          ]
        },
        {
          "name": "stderr",
          "output_type": "stream",
          "text": [
            "\n"
          ]
        },
        {
          "name": "stdout",
          "output_type": "stream",
          "text": [
            "\n",
            "      Epoch    GPU_mem       loss  Instances       Size\n"
          ]
        },
        {
          "name": "stderr",
          "output_type": "stream",
          "text": [
            "     10/100      1.56G    0.04007          4        640: 100%|██████████| 302/302 [03:33<00:00,  1.41it/s]\n",
            "               classes   top1_acc   top5_acc: 100%|██████████| 38/38 [00:26<00:00,  1.42it/s]"
          ]
        },
        {
          "name": "stdout",
          "output_type": "stream",
          "text": [
            "                   all      0.995          1\n"
          ]
        },
        {
          "name": "stderr",
          "output_type": "stream",
          "text": [
            "\n"
          ]
        },
        {
          "name": "stdout",
          "output_type": "stream",
          "text": [
            "\n",
            "      Epoch    GPU_mem       loss  Instances       Size\n"
          ]
        },
        {
          "name": "stderr",
          "output_type": "stream",
          "text": [
            "     11/100      1.56G    0.02623          4        640: 100%|██████████| 302/302 [03:34<00:00,  1.40it/s]\n",
            "               classes   top1_acc   top5_acc: 100%|██████████| 38/38 [00:24<00:00,  1.56it/s]"
          ]
        },
        {
          "name": "stdout",
          "output_type": "stream",
          "text": [
            "                   all          1          1\n"
          ]
        },
        {
          "name": "stderr",
          "output_type": "stream",
          "text": [
            "\n"
          ]
        },
        {
          "name": "stdout",
          "output_type": "stream",
          "text": [
            "\n",
            "      Epoch    GPU_mem       loss  Instances       Size\n"
          ]
        },
        {
          "name": "stderr",
          "output_type": "stream",
          "text": [
            "     12/100      1.56G    0.02051          4        640: 100%|██████████| 302/302 [03:36<00:00,  1.40it/s]\n",
            "               classes   top1_acc   top5_acc: 100%|██████████| 38/38 [00:25<00:00,  1.51it/s]"
          ]
        },
        {
          "name": "stdout",
          "output_type": "stream",
          "text": [
            "                   all          1          1\n"
          ]
        },
        {
          "name": "stderr",
          "output_type": "stream",
          "text": [
            "\n"
          ]
        },
        {
          "name": "stdout",
          "output_type": "stream",
          "text": [
            "\n",
            "      Epoch    GPU_mem       loss  Instances       Size\n"
          ]
        },
        {
          "name": "stderr",
          "output_type": "stream",
          "text": [
            "     13/100      1.56G    0.01587          4        640: 100%|██████████| 302/302 [03:28<00:00,  1.45it/s]\n",
            "               classes   top1_acc   top5_acc: 100%|██████████| 38/38 [00:23<00:00,  1.62it/s]"
          ]
        },
        {
          "name": "stdout",
          "output_type": "stream",
          "text": [
            "                   all      0.999          1\n"
          ]
        },
        {
          "name": "stderr",
          "output_type": "stream",
          "text": [
            "\n"
          ]
        },
        {
          "name": "stdout",
          "output_type": "stream",
          "text": [
            "\n",
            "      Epoch    GPU_mem       loss  Instances       Size\n"
          ]
        },
        {
          "name": "stderr",
          "output_type": "stream",
          "text": [
            "     14/100      1.56G    0.01678          4        640: 100%|██████████| 302/302 [03:34<00:00,  1.41it/s]\n",
            "               classes   top1_acc   top5_acc: 100%|██████████| 38/38 [00:26<00:00,  1.43it/s]"
          ]
        },
        {
          "name": "stdout",
          "output_type": "stream",
          "text": [
            "                   all          1          1\n"
          ]
        },
        {
          "name": "stderr",
          "output_type": "stream",
          "text": [
            "\n"
          ]
        },
        {
          "name": "stdout",
          "output_type": "stream",
          "text": [
            "\n",
            "      Epoch    GPU_mem       loss  Instances       Size\n"
          ]
        },
        {
          "name": "stderr",
          "output_type": "stream",
          "text": [
            "     15/100      1.56G    0.01925          4        640: 100%|██████████| 302/302 [03:32<00:00,  1.42it/s]\n",
            "               classes   top1_acc   top5_acc: 100%|██████████| 38/38 [00:24<00:00,  1.52it/s]"
          ]
        },
        {
          "name": "stdout",
          "output_type": "stream",
          "text": [
            "                   all          1          1\n"
          ]
        },
        {
          "name": "stderr",
          "output_type": "stream",
          "text": [
            "\n"
          ]
        },
        {
          "name": "stdout",
          "output_type": "stream",
          "text": [
            "\n",
            "      Epoch    GPU_mem       loss  Instances       Size\n"
          ]
        },
        {
          "name": "stderr",
          "output_type": "stream",
          "text": [
            "     16/100      1.56G    0.01245          4        640: 100%|██████████| 302/302 [03:28<00:00,  1.45it/s]\n",
            "               classes   top1_acc   top5_acc: 100%|██████████| 38/38 [00:25<00:00,  1.47it/s]"
          ]
        },
        {
          "name": "stdout",
          "output_type": "stream",
          "text": [
            "                   all          1          1\n"
          ]
        },
        {
          "name": "stderr",
          "output_type": "stream",
          "text": [
            "\n"
          ]
        },
        {
          "name": "stdout",
          "output_type": "stream",
          "text": [
            "\n",
            "      Epoch    GPU_mem       loss  Instances       Size\n"
          ]
        },
        {
          "name": "stderr",
          "output_type": "stream",
          "text": [
            "     17/100      1.56G    0.02246          4        640: 100%|██████████| 302/302 [03:30<00:00,  1.44it/s]\n",
            "               classes   top1_acc   top5_acc: 100%|██████████| 38/38 [00:24<00:00,  1.56it/s]"
          ]
        },
        {
          "name": "stdout",
          "output_type": "stream",
          "text": [
            "                   all      0.998          1\n"
          ]
        },
        {
          "name": "stderr",
          "output_type": "stream",
          "text": [
            "\n"
          ]
        },
        {
          "name": "stdout",
          "output_type": "stream",
          "text": [
            "\n",
            "      Epoch    GPU_mem       loss  Instances       Size\n"
          ]
        },
        {
          "name": "stderr",
          "output_type": "stream",
          "text": [
            "     18/100      1.56G    0.01442          4        640: 100%|██████████| 302/302 [03:34<00:00,  1.41it/s]\n",
            "               classes   top1_acc   top5_acc: 100%|██████████| 38/38 [00:26<00:00,  1.44it/s]"
          ]
        },
        {
          "name": "stdout",
          "output_type": "stream",
          "text": [
            "                   all      0.999          1\n"
          ]
        },
        {
          "name": "stderr",
          "output_type": "stream",
          "text": [
            "\n"
          ]
        },
        {
          "name": "stdout",
          "output_type": "stream",
          "text": [
            "\n",
            "      Epoch    GPU_mem       loss  Instances       Size\n"
          ]
        },
        {
          "name": "stderr",
          "output_type": "stream",
          "text": [
            "     19/100      1.56G    0.02152          4        640: 100%|██████████| 302/302 [03:31<00:00,  1.43it/s]\n",
            "               classes   top1_acc   top5_acc: 100%|██████████| 38/38 [00:24<00:00,  1.53it/s]"
          ]
        },
        {
          "name": "stdout",
          "output_type": "stream",
          "text": [
            "                   all          1          1\n"
          ]
        },
        {
          "name": "stderr",
          "output_type": "stream",
          "text": [
            "\n"
          ]
        },
        {
          "name": "stdout",
          "output_type": "stream",
          "text": [
            "\n",
            "      Epoch    GPU_mem       loss  Instances       Size\n"
          ]
        },
        {
          "name": "stderr",
          "output_type": "stream",
          "text": [
            "     20/100      1.56G    0.01101          4        640: 100%|██████████| 302/302 [03:31<00:00,  1.43it/s]\n",
            "               classes   top1_acc   top5_acc: 100%|██████████| 38/38 [00:26<00:00,  1.45it/s]"
          ]
        },
        {
          "name": "stdout",
          "output_type": "stream",
          "text": [
            "                   all      0.998          1\n"
          ]
        },
        {
          "name": "stderr",
          "output_type": "stream",
          "text": [
            "\n"
          ]
        },
        {
          "name": "stdout",
          "output_type": "stream",
          "text": [
            "\n",
            "      Epoch    GPU_mem       loss  Instances       Size\n"
          ]
        },
        {
          "name": "stderr",
          "output_type": "stream",
          "text": [
            "     21/100      1.56G    0.01752          4        640: 100%|██████████| 302/302 [03:31<00:00,  1.43it/s]\n",
            "               classes   top1_acc   top5_acc: 100%|██████████| 38/38 [00:24<00:00,  1.56it/s]"
          ]
        },
        {
          "name": "stdout",
          "output_type": "stream",
          "text": [
            "                   all      0.987          1\n"
          ]
        },
        {
          "name": "stderr",
          "output_type": "stream",
          "text": [
            "\n"
          ]
        },
        {
          "name": "stdout",
          "output_type": "stream",
          "text": [
            "\n",
            "      Epoch    GPU_mem       loss  Instances       Size\n"
          ]
        },
        {
          "name": "stderr",
          "output_type": "stream",
          "text": [
            "     22/100      1.56G    0.01594          4        640: 100%|██████████| 302/302 [03:31<00:00,  1.43it/s]\n",
            "               classes   top1_acc   top5_acc: 100%|██████████| 38/38 [00:26<00:00,  1.41it/s]"
          ]
        },
        {
          "name": "stdout",
          "output_type": "stream",
          "text": [
            "                   all          1          1\n"
          ]
        },
        {
          "name": "stderr",
          "output_type": "stream",
          "text": [
            "\n"
          ]
        },
        {
          "name": "stdout",
          "output_type": "stream",
          "text": [
            "\n",
            "      Epoch    GPU_mem       loss  Instances       Size\n"
          ]
        },
        {
          "name": "stderr",
          "output_type": "stream",
          "text": [
            "     23/100      1.56G    0.01299          4        640: 100%|██████████| 302/302 [03:31<00:00,  1.43it/s]\n",
            "               classes   top1_acc   top5_acc: 100%|██████████| 38/38 [00:23<00:00,  1.64it/s]"
          ]
        },
        {
          "name": "stdout",
          "output_type": "stream",
          "text": [
            "                   all          1          1\n"
          ]
        },
        {
          "name": "stderr",
          "output_type": "stream",
          "text": [
            "\n"
          ]
        },
        {
          "name": "stdout",
          "output_type": "stream",
          "text": [
            "\n",
            "      Epoch    GPU_mem       loss  Instances       Size\n"
          ]
        },
        {
          "name": "stderr",
          "output_type": "stream",
          "text": [
            "     24/100      1.56G    0.01302          4        640: 100%|██████████| 302/302 [03:31<00:00,  1.43it/s]\n",
            "               classes   top1_acc   top5_acc: 100%|██████████| 38/38 [00:25<00:00,  1.46it/s]"
          ]
        },
        {
          "name": "stdout",
          "output_type": "stream",
          "text": [
            "                   all      0.999          1\n"
          ]
        },
        {
          "name": "stderr",
          "output_type": "stream",
          "text": [
            "\n"
          ]
        },
        {
          "name": "stdout",
          "output_type": "stream",
          "text": [
            "\n",
            "      Epoch    GPU_mem       loss  Instances       Size\n"
          ]
        },
        {
          "name": "stderr",
          "output_type": "stream",
          "text": [
            "     25/100      1.56G    0.01198          4        640: 100%|██████████| 302/302 [03:29<00:00,  1.44it/s]\n",
            "               classes   top1_acc   top5_acc: 100%|██████████| 38/38 [00:23<00:00,  1.60it/s]"
          ]
        },
        {
          "name": "stdout",
          "output_type": "stream",
          "text": [
            "                   all          1          1\n"
          ]
        },
        {
          "name": "stderr",
          "output_type": "stream",
          "text": [
            "\n"
          ]
        },
        {
          "name": "stdout",
          "output_type": "stream",
          "text": [
            "\n",
            "      Epoch    GPU_mem       loss  Instances       Size\n"
          ]
        },
        {
          "name": "stderr",
          "output_type": "stream",
          "text": [
            "     26/100      1.56G    0.01305          4        640: 100%|██████████| 302/302 [03:30<00:00,  1.43it/s]\n",
            "               classes   top1_acc   top5_acc: 100%|██████████| 38/38 [00:23<00:00,  1.63it/s]"
          ]
        },
        {
          "name": "stdout",
          "output_type": "stream",
          "text": [
            "                   all          1          1\n"
          ]
        },
        {
          "name": "stderr",
          "output_type": "stream",
          "text": [
            "\n"
          ]
        },
        {
          "name": "stdout",
          "output_type": "stream",
          "text": [
            "\n",
            "      Epoch    GPU_mem       loss  Instances       Size\n"
          ]
        },
        {
          "name": "stderr",
          "output_type": "stream",
          "text": [
            "     27/100      1.56G    0.01514          4        640: 100%|██████████| 302/302 [03:30<00:00,  1.44it/s]\n",
            "               classes   top1_acc   top5_acc: 100%|██████████| 38/38 [00:26<00:00,  1.43it/s]"
          ]
        },
        {
          "name": "stdout",
          "output_type": "stream",
          "text": [
            "                   all          1          1\n"
          ]
        },
        {
          "name": "stderr",
          "output_type": "stream",
          "text": [
            "\n"
          ]
        },
        {
          "name": "stdout",
          "output_type": "stream",
          "text": [
            "\n",
            "      Epoch    GPU_mem       loss  Instances       Size\n"
          ]
        },
        {
          "name": "stderr",
          "output_type": "stream",
          "text": [
            "     28/100      1.56G    0.01676          4        640: 100%|██████████| 302/302 [03:31<00:00,  1.43it/s]\n",
            "               classes   top1_acc   top5_acc: 100%|██████████| 38/38 [00:23<00:00,  1.65it/s]"
          ]
        },
        {
          "name": "stdout",
          "output_type": "stream",
          "text": [
            "                   all      0.998          1\n"
          ]
        },
        {
          "name": "stderr",
          "output_type": "stream",
          "text": [
            "\n"
          ]
        },
        {
          "name": "stdout",
          "output_type": "stream",
          "text": [
            "\n",
            "      Epoch    GPU_mem       loss  Instances       Size\n"
          ]
        },
        {
          "name": "stderr",
          "output_type": "stream",
          "text": [
            "     29/100      1.56G    0.01476          4        640: 100%|██████████| 302/302 [03:29<00:00,  1.44it/s]\n",
            "               classes   top1_acc   top5_acc: 100%|██████████| 38/38 [00:26<00:00,  1.43it/s]"
          ]
        },
        {
          "name": "stdout",
          "output_type": "stream",
          "text": [
            "                   all      0.997          1\n"
          ]
        },
        {
          "name": "stderr",
          "output_type": "stream",
          "text": [
            "\n"
          ]
        },
        {
          "name": "stdout",
          "output_type": "stream",
          "text": [
            "\n",
            "      Epoch    GPU_mem       loss  Instances       Size\n"
          ]
        },
        {
          "name": "stderr",
          "output_type": "stream",
          "text": [
            "     30/100      1.56G   0.007817          4        640: 100%|██████████| 302/302 [03:28<00:00,  1.45it/s]\n",
            "               classes   top1_acc   top5_acc: 100%|██████████| 38/38 [00:24<00:00,  1.54it/s]"
          ]
        },
        {
          "name": "stdout",
          "output_type": "stream",
          "text": [
            "                   all          1          1\n"
          ]
        },
        {
          "name": "stderr",
          "output_type": "stream",
          "text": [
            "\n"
          ]
        },
        {
          "name": "stdout",
          "output_type": "stream",
          "text": [
            "\n",
            "      Epoch    GPU_mem       loss  Instances       Size\n"
          ]
        },
        {
          "name": "stderr",
          "output_type": "stream",
          "text": [
            "     31/100      1.56G   0.005974          4        640: 100%|██████████| 302/302 [03:29<00:00,  1.44it/s]\n",
            "               classes   top1_acc   top5_acc: 100%|██████████| 38/38 [00:24<00:00,  1.57it/s]"
          ]
        },
        {
          "name": "stdout",
          "output_type": "stream",
          "text": [
            "                   all          1          1\n"
          ]
        },
        {
          "name": "stderr",
          "output_type": "stream",
          "text": [
            "\n"
          ]
        },
        {
          "name": "stdout",
          "output_type": "stream",
          "text": [
            "\n",
            "      Epoch    GPU_mem       loss  Instances       Size\n"
          ]
        },
        {
          "name": "stderr",
          "output_type": "stream",
          "text": [
            "     32/100      1.56G   0.005906          4        640: 100%|██████████| 302/302 [03:27<00:00,  1.45it/s]\n",
            "               classes   top1_acc   top5_acc: 100%|██████████| 38/38 [00:24<00:00,  1.53it/s]"
          ]
        },
        {
          "name": "stdout",
          "output_type": "stream",
          "text": [
            "                   all          1          1\n"
          ]
        },
        {
          "name": "stderr",
          "output_type": "stream",
          "text": [
            "\n"
          ]
        },
        {
          "name": "stdout",
          "output_type": "stream",
          "text": [
            "\n",
            "      Epoch    GPU_mem       loss  Instances       Size\n"
          ]
        },
        {
          "name": "stderr",
          "output_type": "stream",
          "text": [
            "     33/100      1.56G   0.005087          4        640: 100%|██████████| 302/302 [03:27<00:00,  1.45it/s]\n",
            "               classes   top1_acc   top5_acc: 100%|██████████| 38/38 [00:26<00:00,  1.44it/s]"
          ]
        },
        {
          "name": "stdout",
          "output_type": "stream",
          "text": [
            "                   all          1          1\n"
          ]
        },
        {
          "name": "stderr",
          "output_type": "stream",
          "text": [
            "\n"
          ]
        },
        {
          "name": "stdout",
          "output_type": "stream",
          "text": [
            "\n",
            "      Epoch    GPU_mem       loss  Instances       Size\n"
          ]
        },
        {
          "name": "stderr",
          "output_type": "stream",
          "text": [
            "     34/100      1.56G   0.004351          4        640: 100%|██████████| 302/302 [03:25<00:00,  1.47it/s]\n",
            "               classes   top1_acc   top5_acc: 100%|██████████| 38/38 [00:23<00:00,  1.59it/s]"
          ]
        },
        {
          "name": "stdout",
          "output_type": "stream",
          "text": [
            "                   all          1          1\n"
          ]
        },
        {
          "name": "stderr",
          "output_type": "stream",
          "text": [
            "\n"
          ]
        },
        {
          "name": "stdout",
          "output_type": "stream",
          "text": [
            "\n",
            "      Epoch    GPU_mem       loss  Instances       Size\n"
          ]
        },
        {
          "name": "stderr",
          "output_type": "stream",
          "text": [
            "     35/100      1.56G   0.009009          4        640: 100%|██████████| 302/302 [03:20<00:00,  1.51it/s]\n",
            "               classes   top1_acc   top5_acc: 100%|██████████| 38/38 [00:24<00:00,  1.56it/s]"
          ]
        },
        {
          "name": "stdout",
          "output_type": "stream",
          "text": [
            "                   all          1          1\n"
          ]
        },
        {
          "name": "stderr",
          "output_type": "stream",
          "text": [
            "\n"
          ]
        },
        {
          "name": "stdout",
          "output_type": "stream",
          "text": [
            "\n",
            "      Epoch    GPU_mem       loss  Instances       Size\n"
          ]
        },
        {
          "name": "stderr",
          "output_type": "stream",
          "text": [
            "     36/100      1.56G   0.008694          4        640: 100%|██████████| 302/302 [03:22<00:00,  1.49it/s]\n",
            "               classes   top1_acc   top5_acc: 100%|██████████| 38/38 [00:24<00:00,  1.55it/s]"
          ]
        },
        {
          "name": "stdout",
          "output_type": "stream",
          "text": [
            "                   all      0.999          1\n"
          ]
        },
        {
          "name": "stderr",
          "output_type": "stream",
          "text": [
            "\n"
          ]
        },
        {
          "name": "stdout",
          "output_type": "stream",
          "text": [
            "\n",
            "      Epoch    GPU_mem       loss  Instances       Size\n"
          ]
        },
        {
          "name": "stderr",
          "output_type": "stream",
          "text": [
            "     37/100      1.56G    0.01107          4        640: 100%|██████████| 302/302 [03:20<00:00,  1.50it/s]\n",
            "               classes   top1_acc   top5_acc: 100%|██████████| 38/38 [00:24<00:00,  1.54it/s]"
          ]
        },
        {
          "name": "stdout",
          "output_type": "stream",
          "text": [
            "                   all      0.999          1\n"
          ]
        },
        {
          "name": "stderr",
          "output_type": "stream",
          "text": [
            "\n"
          ]
        },
        {
          "name": "stdout",
          "output_type": "stream",
          "text": [
            "\n",
            "      Epoch    GPU_mem       loss  Instances       Size\n"
          ]
        },
        {
          "name": "stderr",
          "output_type": "stream",
          "text": [
            "     38/100      1.56G   0.007373          4        640: 100%|██████████| 302/302 [03:22<00:00,  1.49it/s]\n",
            "               classes   top1_acc   top5_acc: 100%|██████████| 38/38 [00:24<00:00,  1.58it/s]"
          ]
        },
        {
          "name": "stdout",
          "output_type": "stream",
          "text": [
            "                   all          1          1\n"
          ]
        },
        {
          "name": "stderr",
          "output_type": "stream",
          "text": [
            "\n"
          ]
        },
        {
          "name": "stdout",
          "output_type": "stream",
          "text": [
            "\n",
            "      Epoch    GPU_mem       loss  Instances       Size\n"
          ]
        },
        {
          "name": "stderr",
          "output_type": "stream",
          "text": [
            "     39/100      1.56G   0.006359          4        640: 100%|██████████| 302/302 [03:22<00:00,  1.49it/s]\n",
            "               classes   top1_acc   top5_acc: 100%|██████████| 38/38 [00:25<00:00,  1.48it/s]"
          ]
        },
        {
          "name": "stdout",
          "output_type": "stream",
          "text": [
            "                   all          1          1\n"
          ]
        },
        {
          "name": "stderr",
          "output_type": "stream",
          "text": [
            "\n"
          ]
        },
        {
          "name": "stdout",
          "output_type": "stream",
          "text": [
            "\n",
            "      Epoch    GPU_mem       loss  Instances       Size\n"
          ]
        },
        {
          "name": "stderr",
          "output_type": "stream",
          "text": [
            "     40/100      1.64G    0.01112          4        640: 100%|██████████| 302/302 [03:22<00:00,  1.49it/s]\n",
            "               classes   top1_acc   top5_acc: 100%|██████████| 38/38 [00:22<00:00,  1.67it/s]"
          ]
        },
        {
          "name": "stdout",
          "output_type": "stream",
          "text": [
            "                   all          1          1\n"
          ]
        },
        {
          "name": "stderr",
          "output_type": "stream",
          "text": [
            "\n"
          ]
        },
        {
          "name": "stdout",
          "output_type": "stream",
          "text": [
            "\n",
            "      Epoch    GPU_mem       loss  Instances       Size\n"
          ]
        },
        {
          "name": "stderr",
          "output_type": "stream",
          "text": [
            "     41/100      1.56G   0.007872          4        640: 100%|██████████| 302/302 [03:23<00:00,  1.49it/s]\n",
            "               classes   top1_acc   top5_acc: 100%|██████████| 38/38 [00:22<00:00,  1.68it/s]"
          ]
        },
        {
          "name": "stdout",
          "output_type": "stream",
          "text": [
            "                   all          1          1\n"
          ]
        },
        {
          "name": "stderr",
          "output_type": "stream",
          "text": [
            "\n"
          ]
        },
        {
          "name": "stdout",
          "output_type": "stream",
          "text": [
            "\n",
            "      Epoch    GPU_mem       loss  Instances       Size\n"
          ]
        },
        {
          "name": "stderr",
          "output_type": "stream",
          "text": [
            "     42/100      1.56G   0.006258          4        640: 100%|██████████| 302/302 [03:24<00:00,  1.47it/s]\n",
            "               classes   top1_acc   top5_acc: 100%|██████████| 38/38 [00:22<00:00,  1.66it/s]"
          ]
        },
        {
          "name": "stdout",
          "output_type": "stream",
          "text": [
            "                   all          1          1\n"
          ]
        },
        {
          "name": "stderr",
          "output_type": "stream",
          "text": [
            "\n"
          ]
        },
        {
          "name": "stdout",
          "output_type": "stream",
          "text": [
            "\n",
            "      Epoch    GPU_mem       loss  Instances       Size\n"
          ]
        },
        {
          "name": "stderr",
          "output_type": "stream",
          "text": [
            "     43/100      1.56G     0.0121          4        640: 100%|██████████| 302/302 [03:24<00:00,  1.48it/s]\n",
            "               classes   top1_acc   top5_acc: 100%|██████████| 38/38 [00:22<00:00,  1.67it/s]"
          ]
        },
        {
          "name": "stdout",
          "output_type": "stream",
          "text": [
            "                   all          1          1\n"
          ]
        },
        {
          "name": "stderr",
          "output_type": "stream",
          "text": [
            "\n"
          ]
        },
        {
          "name": "stdout",
          "output_type": "stream",
          "text": [
            "\n",
            "      Epoch    GPU_mem       loss  Instances       Size\n"
          ]
        },
        {
          "name": "stderr",
          "output_type": "stream",
          "text": [
            "     44/100      1.56G   0.006619          4        640: 100%|██████████| 302/302 [03:22<00:00,  1.49it/s]\n",
            "               classes   top1_acc   top5_acc: 100%|██████████| 38/38 [00:22<00:00,  1.68it/s]"
          ]
        },
        {
          "name": "stdout",
          "output_type": "stream",
          "text": [
            "                   all          1          1\n"
          ]
        },
        {
          "name": "stderr",
          "output_type": "stream",
          "text": [
            "\n"
          ]
        },
        {
          "name": "stdout",
          "output_type": "stream",
          "text": [
            "\n",
            "      Epoch    GPU_mem       loss  Instances       Size\n"
          ]
        },
        {
          "name": "stderr",
          "output_type": "stream",
          "text": [
            "     45/100      1.56G    0.01408          4        640: 100%|██████████| 302/302 [03:23<00:00,  1.48it/s]\n",
            "               classes   top1_acc   top5_acc: 100%|██████████| 38/38 [00:22<00:00,  1.69it/s]"
          ]
        },
        {
          "name": "stdout",
          "output_type": "stream",
          "text": [
            "                   all          1          1\n"
          ]
        },
        {
          "name": "stderr",
          "output_type": "stream",
          "text": [
            "\n"
          ]
        },
        {
          "name": "stdout",
          "output_type": "stream",
          "text": [
            "\n",
            "      Epoch    GPU_mem       loss  Instances       Size\n"
          ]
        },
        {
          "name": "stderr",
          "output_type": "stream",
          "text": [
            "     46/100      1.64G   0.004506          4        640: 100%|██████████| 302/302 [03:22<00:00,  1.49it/s]\n",
            "               classes   top1_acc   top5_acc: 100%|██████████| 38/38 [00:22<00:00,  1.68it/s]"
          ]
        },
        {
          "name": "stdout",
          "output_type": "stream",
          "text": [
            "                   all          1          1\n"
          ]
        },
        {
          "name": "stderr",
          "output_type": "stream",
          "text": [
            "\n"
          ]
        },
        {
          "name": "stdout",
          "output_type": "stream",
          "text": [
            "\n",
            "      Epoch    GPU_mem       loss  Instances       Size\n"
          ]
        },
        {
          "name": "stderr",
          "output_type": "stream",
          "text": [
            "     47/100      1.56G    0.01113          4        640: 100%|██████████| 302/302 [03:22<00:00,  1.49it/s]\n",
            "               classes   top1_acc   top5_acc: 100%|██████████| 38/38 [00:23<00:00,  1.61it/s]"
          ]
        },
        {
          "name": "stdout",
          "output_type": "stream",
          "text": [
            "                   all      0.998          1\n"
          ]
        },
        {
          "name": "stderr",
          "output_type": "stream",
          "text": [
            "\n"
          ]
        },
        {
          "name": "stdout",
          "output_type": "stream",
          "text": [
            "\n",
            "      Epoch    GPU_mem       loss  Instances       Size\n"
          ]
        },
        {
          "name": "stderr",
          "output_type": "stream",
          "text": [
            "     48/100      1.64G   0.004449          4        640: 100%|██████████| 302/302 [03:22<00:00,  1.49it/s]\n",
            "               classes   top1_acc   top5_acc: 100%|██████████| 38/38 [00:22<00:00,  1.67it/s]"
          ]
        },
        {
          "name": "stdout",
          "output_type": "stream",
          "text": [
            "                   all          1          1\n"
          ]
        },
        {
          "name": "stderr",
          "output_type": "stream",
          "text": [
            "\n"
          ]
        },
        {
          "name": "stdout",
          "output_type": "stream",
          "text": [
            "\n",
            "      Epoch    GPU_mem       loss  Instances       Size\n"
          ]
        },
        {
          "name": "stderr",
          "output_type": "stream",
          "text": [
            "     49/100      1.56G   0.006231          4        640: 100%|██████████| 302/302 [03:24<00:00,  1.47it/s]\n",
            "               classes   top1_acc   top5_acc: 100%|██████████| 38/38 [00:23<00:00,  1.59it/s]"
          ]
        },
        {
          "name": "stdout",
          "output_type": "stream",
          "text": [
            "                   all          1          1\n"
          ]
        },
        {
          "name": "stderr",
          "output_type": "stream",
          "text": [
            "\n"
          ]
        },
        {
          "name": "stdout",
          "output_type": "stream",
          "text": [
            "\n",
            "      Epoch    GPU_mem       loss  Instances       Size\n"
          ]
        },
        {
          "name": "stderr",
          "output_type": "stream",
          "text": [
            "     50/100      1.56G   0.005202          4        640: 100%|██████████| 302/302 [03:24<00:00,  1.48it/s]\n",
            "               classes   top1_acc   top5_acc: 100%|██████████| 38/38 [00:24<00:00,  1.52it/s]"
          ]
        },
        {
          "name": "stdout",
          "output_type": "stream",
          "text": [
            "                   all          1          1\n"
          ]
        },
        {
          "name": "stderr",
          "output_type": "stream",
          "text": [
            "\n"
          ]
        },
        {
          "name": "stdout",
          "output_type": "stream",
          "text": [
            "\n",
            "      Epoch    GPU_mem       loss  Instances       Size\n"
          ]
        },
        {
          "name": "stderr",
          "output_type": "stream",
          "text": [
            "     51/100      1.56G   0.002245          4        640: 100%|██████████| 302/302 [03:22<00:00,  1.49it/s]\n",
            "               classes   top1_acc   top5_acc: 100%|██████████| 38/38 [00:25<00:00,  1.47it/s]"
          ]
        },
        {
          "name": "stdout",
          "output_type": "stream",
          "text": [
            "                   all          1          1\n"
          ]
        },
        {
          "name": "stderr",
          "output_type": "stream",
          "text": [
            "\n"
          ]
        },
        {
          "name": "stdout",
          "output_type": "stream",
          "text": [
            "\n",
            "      Epoch    GPU_mem       loss  Instances       Size\n"
          ]
        },
        {
          "name": "stderr",
          "output_type": "stream",
          "text": [
            "     52/100      1.64G   0.001926          4        640: 100%|██████████| 302/302 [03:20<00:00,  1.51it/s]\n",
            "               classes   top1_acc   top5_acc: 100%|██████████| 38/38 [00:24<00:00,  1.53it/s]"
          ]
        },
        {
          "name": "stdout",
          "output_type": "stream",
          "text": [
            "                   all          1          1\n"
          ]
        },
        {
          "name": "stderr",
          "output_type": "stream",
          "text": [
            "\n"
          ]
        },
        {
          "name": "stdout",
          "output_type": "stream",
          "text": [
            "\n",
            "      Epoch    GPU_mem       loss  Instances       Size\n"
          ]
        },
        {
          "name": "stderr",
          "output_type": "stream",
          "text": [
            "     53/100      1.56G   0.002366          4        640: 100%|██████████| 302/302 [4:07:43<00:00, 49.22s/it]\n",
            "               classes   top1_acc   top5_acc: 100%|██████████| 38/38 [00:25<00:00,  1.47it/s]"
          ]
        },
        {
          "name": "stdout",
          "output_type": "stream",
          "text": [
            "                   all          1          1\n"
          ]
        },
        {
          "name": "stderr",
          "output_type": "stream",
          "text": [
            "\n"
          ]
        },
        {
          "name": "stdout",
          "output_type": "stream",
          "text": [
            "\n",
            "      Epoch    GPU_mem       loss  Instances       Size\n"
          ]
        },
        {
          "name": "stderr",
          "output_type": "stream",
          "text": [
            "     54/100      1.56G   0.004049          4        640: 100%|██████████| 302/302 [03:24<00:00,  1.48it/s]\n",
            "               classes   top1_acc   top5_acc: 100%|██████████| 38/38 [00:26<00:00,  1.45it/s]"
          ]
        },
        {
          "name": "stdout",
          "output_type": "stream",
          "text": [
            "                   all          1          1\n"
          ]
        },
        {
          "name": "stderr",
          "output_type": "stream",
          "text": [
            "\n"
          ]
        },
        {
          "name": "stdout",
          "output_type": "stream",
          "text": [
            "\n",
            "      Epoch    GPU_mem       loss  Instances       Size\n"
          ]
        },
        {
          "name": "stderr",
          "output_type": "stream",
          "text": [
            "     55/100      1.56G   0.004002          4        640: 100%|██████████| 302/302 [03:27<00:00,  1.46it/s]\n",
            "               classes   top1_acc   top5_acc: 100%|██████████| 38/38 [00:23<00:00,  1.62it/s]"
          ]
        },
        {
          "name": "stdout",
          "output_type": "stream",
          "text": [
            "                   all          1          1\n"
          ]
        },
        {
          "name": "stderr",
          "output_type": "stream",
          "text": [
            "\n"
          ]
        },
        {
          "name": "stdout",
          "output_type": "stream",
          "text": [
            "\n",
            "      Epoch    GPU_mem       loss  Instances       Size\n"
          ]
        },
        {
          "name": "stderr",
          "output_type": "stream",
          "text": [
            "     56/100      1.56G   0.006952          4        640: 100%|██████████| 302/302 [03:28<00:00,  1.45it/s]\n",
            "               classes   top1_acc   top5_acc: 100%|██████████| 38/38 [00:23<00:00,  1.63it/s]"
          ]
        },
        {
          "name": "stdout",
          "output_type": "stream",
          "text": [
            "                   all          1          1\n"
          ]
        },
        {
          "name": "stderr",
          "output_type": "stream",
          "text": [
            "\n"
          ]
        },
        {
          "name": "stdout",
          "output_type": "stream",
          "text": [
            "\n",
            "      Epoch    GPU_mem       loss  Instances       Size\n"
          ]
        },
        {
          "name": "stderr",
          "output_type": "stream",
          "text": [
            "     57/100      1.56G   0.004127          4        640: 100%|██████████| 302/302 [03:26<00:00,  1.46it/s]\n",
            "               classes   top1_acc   top5_acc: 100%|██████████| 38/38 [00:24<00:00,  1.58it/s]"
          ]
        },
        {
          "name": "stdout",
          "output_type": "stream",
          "text": [
            "                   all          1          1\n"
          ]
        },
        {
          "name": "stderr",
          "output_type": "stream",
          "text": [
            "\n"
          ]
        },
        {
          "name": "stdout",
          "output_type": "stream",
          "text": [
            "\n",
            "      Epoch    GPU_mem       loss  Instances       Size\n"
          ]
        },
        {
          "name": "stderr",
          "output_type": "stream",
          "text": [
            "     58/100      1.56G   0.004869          4        640: 100%|██████████| 302/302 [03:23<00:00,  1.48it/s]\n",
            "               classes   top1_acc   top5_acc: 100%|██████████| 38/38 [00:23<00:00,  1.60it/s]"
          ]
        },
        {
          "name": "stdout",
          "output_type": "stream",
          "text": [
            "                   all          1          1\n"
          ]
        },
        {
          "name": "stderr",
          "output_type": "stream",
          "text": [
            "\n"
          ]
        },
        {
          "name": "stdout",
          "output_type": "stream",
          "text": [
            "\n",
            "      Epoch    GPU_mem       loss  Instances       Size\n"
          ]
        },
        {
          "name": "stderr",
          "output_type": "stream",
          "text": [
            "     59/100      1.56G   0.005529          4        640: 100%|██████████| 302/302 [03:23<00:00,  1.49it/s]\n",
            "               classes   top1_acc   top5_acc: 100%|██████████| 38/38 [00:23<00:00,  1.62it/s]"
          ]
        },
        {
          "name": "stdout",
          "output_type": "stream",
          "text": [
            "                   all          1          1\n"
          ]
        },
        {
          "name": "stderr",
          "output_type": "stream",
          "text": [
            "\n"
          ]
        },
        {
          "name": "stdout",
          "output_type": "stream",
          "text": [
            "\n",
            "      Epoch    GPU_mem       loss  Instances       Size\n"
          ]
        },
        {
          "name": "stderr",
          "output_type": "stream",
          "text": [
            "     60/100      1.56G   0.007924          4        640: 100%|██████████| 302/302 [03:22<00:00,  1.49it/s]\n",
            "               classes   top1_acc   top5_acc: 100%|██████████| 38/38 [00:23<00:00,  1.61it/s]"
          ]
        },
        {
          "name": "stdout",
          "output_type": "stream",
          "text": [
            "                   all      0.999          1\n"
          ]
        },
        {
          "name": "stderr",
          "output_type": "stream",
          "text": [
            "\n"
          ]
        },
        {
          "name": "stdout",
          "output_type": "stream",
          "text": [
            "\n",
            "      Epoch    GPU_mem       loss  Instances       Size\n"
          ]
        },
        {
          "name": "stderr",
          "output_type": "stream",
          "text": [
            "     61/100      1.56G   0.004549          4        640: 100%|██████████| 302/302 [03:22<00:00,  1.49it/s]\n",
            "               classes   top1_acc   top5_acc: 100%|██████████| 38/38 [00:24<00:00,  1.54it/s]"
          ]
        },
        {
          "name": "stdout",
          "output_type": "stream",
          "text": [
            "                   all          1          1\n"
          ]
        },
        {
          "name": "stderr",
          "output_type": "stream",
          "text": [
            "\n"
          ]
        },
        {
          "name": "stdout",
          "output_type": "stream",
          "text": [
            "\n",
            "      Epoch    GPU_mem       loss  Instances       Size\n"
          ]
        },
        {
          "name": "stderr",
          "output_type": "stream",
          "text": [
            "     62/100      1.56G    0.01247          4        640: 100%|██████████| 302/302 [03:22<00:00,  1.49it/s]\n",
            "               classes   top1_acc   top5_acc: 100%|██████████| 38/38 [00:25<00:00,  1.49it/s]"
          ]
        },
        {
          "name": "stdout",
          "output_type": "stream",
          "text": [
            "                   all      0.998          1\n"
          ]
        },
        {
          "name": "stderr",
          "output_type": "stream",
          "text": [
            "\n"
          ]
        },
        {
          "name": "stdout",
          "output_type": "stream",
          "text": [
            "\n",
            "      Epoch    GPU_mem       loss  Instances       Size\n"
          ]
        },
        {
          "name": "stderr",
          "output_type": "stream",
          "text": [
            "     63/100      1.56G   0.003913          4        640: 100%|██████████| 302/302 [03:22<00:00,  1.49it/s]\n",
            "               classes   top1_acc   top5_acc: 100%|██████████| 38/38 [00:25<00:00,  1.47it/s]"
          ]
        },
        {
          "name": "stdout",
          "output_type": "stream",
          "text": [
            "                   all          1          1\n"
          ]
        },
        {
          "name": "stderr",
          "output_type": "stream",
          "text": [
            "\n"
          ]
        },
        {
          "name": "stdout",
          "output_type": "stream",
          "text": [
            "\n",
            "      Epoch    GPU_mem       loss  Instances       Size\n"
          ]
        },
        {
          "name": "stderr",
          "output_type": "stream",
          "text": [
            "     64/100      1.64G   0.003794          4        640: 100%|██████████| 302/302 [03:21<00:00,  1.50it/s]\n",
            "               classes   top1_acc   top5_acc: 100%|██████████| 38/38 [00:25<00:00,  1.50it/s]"
          ]
        },
        {
          "name": "stdout",
          "output_type": "stream",
          "text": [
            "                   all          1          1\n"
          ]
        },
        {
          "name": "stderr",
          "output_type": "stream",
          "text": [
            "\n"
          ]
        },
        {
          "name": "stdout",
          "output_type": "stream",
          "text": [
            "\n",
            "      Epoch    GPU_mem       loss  Instances       Size\n"
          ]
        },
        {
          "name": "stderr",
          "output_type": "stream",
          "text": [
            "     65/100      1.56G   0.003608          4        640: 100%|██████████| 302/302 [03:22<00:00,  1.49it/s]\n",
            "               classes   top1_acc   top5_acc: 100%|██████████| 38/38 [00:25<00:00,  1.47it/s]"
          ]
        },
        {
          "name": "stdout",
          "output_type": "stream",
          "text": [
            "                   all          1          1\n"
          ]
        },
        {
          "name": "stderr",
          "output_type": "stream",
          "text": [
            "\n"
          ]
        },
        {
          "name": "stdout",
          "output_type": "stream",
          "text": [
            "\n",
            "      Epoch    GPU_mem       loss  Instances       Size\n"
          ]
        },
        {
          "name": "stderr",
          "output_type": "stream",
          "text": [
            "     66/100      1.56G   0.004068          4        640: 100%|██████████| 302/302 [03:20<00:00,  1.51it/s]\n",
            "               classes   top1_acc   top5_acc: 100%|██████████| 38/38 [00:25<00:00,  1.50it/s]"
          ]
        },
        {
          "name": "stdout",
          "output_type": "stream",
          "text": [
            "                   all          1          1\n"
          ]
        },
        {
          "name": "stderr",
          "output_type": "stream",
          "text": [
            "\n"
          ]
        },
        {
          "name": "stdout",
          "output_type": "stream",
          "text": [
            "\n",
            "      Epoch    GPU_mem       loss  Instances       Size\n"
          ]
        },
        {
          "name": "stderr",
          "output_type": "stream",
          "text": [
            "     67/100      1.56G   0.004011          4        640: 100%|██████████| 302/302 [03:22<00:00,  1.49it/s]\n",
            "               classes   top1_acc   top5_acc: 100%|██████████| 38/38 [00:24<00:00,  1.55it/s]"
          ]
        },
        {
          "name": "stdout",
          "output_type": "stream",
          "text": [
            "                   all          1          1\n"
          ]
        },
        {
          "name": "stderr",
          "output_type": "stream",
          "text": [
            "\n"
          ]
        },
        {
          "name": "stdout",
          "output_type": "stream",
          "text": [
            "\n",
            "      Epoch    GPU_mem       loss  Instances       Size\n"
          ]
        },
        {
          "name": "stderr",
          "output_type": "stream",
          "text": [
            "     68/100      1.56G   0.003603          4        640: 100%|██████████| 302/302 [03:25<00:00,  1.47it/s]\n",
            "               classes   top1_acc   top5_acc: 100%|██████████| 38/38 [00:23<00:00,  1.61it/s]"
          ]
        },
        {
          "name": "stdout",
          "output_type": "stream",
          "text": [
            "                   all      0.999          1\n"
          ]
        },
        {
          "name": "stderr",
          "output_type": "stream",
          "text": [
            "\n"
          ]
        },
        {
          "name": "stdout",
          "output_type": "stream",
          "text": [
            "\n",
            "      Epoch    GPU_mem       loss  Instances       Size\n"
          ]
        },
        {
          "name": "stderr",
          "output_type": "stream",
          "text": [
            "     69/100      1.56G   0.003207          4        640: 100%|██████████| 302/302 [03:26<00:00,  1.46it/s]\n",
            "               classes   top1_acc   top5_acc: 100%|██████████| 38/38 [00:22<00:00,  1.67it/s]"
          ]
        },
        {
          "name": "stdout",
          "output_type": "stream",
          "text": [
            "                   all          1          1\n"
          ]
        },
        {
          "name": "stderr",
          "output_type": "stream",
          "text": [
            "\n"
          ]
        },
        {
          "name": "stdout",
          "output_type": "stream",
          "text": [
            "\n",
            "      Epoch    GPU_mem       loss  Instances       Size\n"
          ]
        },
        {
          "name": "stderr",
          "output_type": "stream",
          "text": [
            "     70/100      1.56G   0.003109          4        640: 100%|██████████| 302/302 [03:24<00:00,  1.48it/s]\n",
            "               classes   top1_acc   top5_acc: 100%|██████████| 38/38 [00:22<00:00,  1.69it/s]"
          ]
        },
        {
          "name": "stdout",
          "output_type": "stream",
          "text": [
            "                   all          1          1\n"
          ]
        },
        {
          "name": "stderr",
          "output_type": "stream",
          "text": [
            "\n"
          ]
        },
        {
          "name": "stdout",
          "output_type": "stream",
          "text": [
            "\n",
            "      Epoch    GPU_mem       loss  Instances       Size\n"
          ]
        },
        {
          "name": "stderr",
          "output_type": "stream",
          "text": [
            "     71/100      1.56G   0.002635          4        640: 100%|██████████| 302/302 [03:25<00:00,  1.47it/s]\n",
            "               classes   top1_acc   top5_acc: 100%|██████████| 38/38 [00:22<00:00,  1.71it/s]"
          ]
        },
        {
          "name": "stdout",
          "output_type": "stream",
          "text": [
            "                   all      0.999          1\n"
          ]
        },
        {
          "name": "stderr",
          "output_type": "stream",
          "text": [
            "\n"
          ]
        },
        {
          "name": "stdout",
          "output_type": "stream",
          "text": [
            "\n",
            "      Epoch    GPU_mem       loss  Instances       Size\n"
          ]
        },
        {
          "name": "stderr",
          "output_type": "stream",
          "text": [
            "     72/100      1.56G   0.002194          4        640: 100%|██████████| 302/302 [03:24<00:00,  1.48it/s]\n",
            "               classes   top1_acc   top5_acc: 100%|██████████| 38/38 [00:22<00:00,  1.67it/s]"
          ]
        },
        {
          "name": "stdout",
          "output_type": "stream",
          "text": [
            "                   all      0.999          1\n"
          ]
        },
        {
          "name": "stderr",
          "output_type": "stream",
          "text": [
            "\n"
          ]
        },
        {
          "name": "stdout",
          "output_type": "stream",
          "text": [
            "\n",
            "      Epoch    GPU_mem       loss  Instances       Size\n"
          ]
        },
        {
          "name": "stderr",
          "output_type": "stream",
          "text": [
            "     73/100      1.56G   0.003552          4        640: 100%|██████████| 302/302 [03:25<00:00,  1.47it/s]\n",
            "               classes   top1_acc   top5_acc: 100%|██████████| 38/38 [00:23<00:00,  1.63it/s]"
          ]
        },
        {
          "name": "stdout",
          "output_type": "stream",
          "text": [
            "                   all          1          1\n"
          ]
        },
        {
          "name": "stderr",
          "output_type": "stream",
          "text": [
            "\n"
          ]
        },
        {
          "name": "stdout",
          "output_type": "stream",
          "text": [
            "\n",
            "      Epoch    GPU_mem       loss  Instances       Size\n"
          ]
        },
        {
          "name": "stderr",
          "output_type": "stream",
          "text": [
            "     74/100      1.56G   0.003535          4        640: 100%|██████████| 302/302 [03:22<00:00,  1.49it/s]\n",
            "               classes   top1_acc   top5_acc: 100%|██████████| 38/38 [00:22<00:00,  1.66it/s]"
          ]
        },
        {
          "name": "stdout",
          "output_type": "stream",
          "text": [
            "                   all          1          1\n"
          ]
        },
        {
          "name": "stderr",
          "output_type": "stream",
          "text": [
            "\n"
          ]
        },
        {
          "name": "stdout",
          "output_type": "stream",
          "text": [
            "\n",
            "      Epoch    GPU_mem       loss  Instances       Size\n"
          ]
        },
        {
          "name": "stderr",
          "output_type": "stream",
          "text": [
            "     75/100      1.56G   0.002159          4        640: 100%|██████████| 302/302 [03:26<00:00,  1.46it/s]\n",
            "               classes   top1_acc   top5_acc: 100%|██████████| 38/38 [00:23<00:00,  1.59it/s]"
          ]
        },
        {
          "name": "stdout",
          "output_type": "stream",
          "text": [
            "                   all          1          1\n"
          ]
        },
        {
          "name": "stderr",
          "output_type": "stream",
          "text": [
            "\n"
          ]
        },
        {
          "name": "stdout",
          "output_type": "stream",
          "text": [
            "\n",
            "      Epoch    GPU_mem       loss  Instances       Size\n"
          ]
        },
        {
          "name": "stderr",
          "output_type": "stream",
          "text": [
            "     76/100      1.56G   0.003234          4        640: 100%|██████████| 302/302 [03:24<00:00,  1.47it/s]\n",
            "               classes   top1_acc   top5_acc: 100%|██████████| 38/38 [00:25<00:00,  1.49it/s]"
          ]
        },
        {
          "name": "stdout",
          "output_type": "stream",
          "text": [
            "                   all          1          1\n"
          ]
        },
        {
          "name": "stderr",
          "output_type": "stream",
          "text": [
            "\n"
          ]
        },
        {
          "name": "stdout",
          "output_type": "stream",
          "text": [
            "\n",
            "      Epoch    GPU_mem       loss  Instances       Size\n"
          ]
        },
        {
          "name": "stderr",
          "output_type": "stream",
          "text": [
            "     77/100      1.56G  0.0008489          4        640: 100%|██████████| 302/302 [03:22<00:00,  1.49it/s]\n",
            "               classes   top1_acc   top5_acc: 100%|██████████| 38/38 [00:25<00:00,  1.46it/s]"
          ]
        },
        {
          "name": "stdout",
          "output_type": "stream",
          "text": [
            "                   all          1          1\n"
          ]
        },
        {
          "name": "stderr",
          "output_type": "stream",
          "text": [
            "\n"
          ]
        },
        {
          "name": "stdout",
          "output_type": "stream",
          "text": [
            "\n",
            "      Epoch    GPU_mem       loss  Instances       Size\n"
          ]
        },
        {
          "name": "stderr",
          "output_type": "stream",
          "text": [
            "     78/100      1.56G   0.001637          4        640: 100%|██████████| 302/302 [03:22<00:00,  1.49it/s]\n",
            "               classes   top1_acc   top5_acc: 100%|██████████| 38/38 [00:25<00:00,  1.50it/s]"
          ]
        },
        {
          "name": "stdout",
          "output_type": "stream",
          "text": [
            "                   all          1          1\n"
          ]
        },
        {
          "name": "stderr",
          "output_type": "stream",
          "text": [
            "\n"
          ]
        },
        {
          "name": "stdout",
          "output_type": "stream",
          "text": [
            "\n",
            "      Epoch    GPU_mem       loss  Instances       Size\n"
          ]
        },
        {
          "name": "stderr",
          "output_type": "stream",
          "text": [
            "     79/100      1.56G  0.0009934          4        640: 100%|██████████| 302/302 [03:24<00:00,  1.48it/s]\n",
            "               classes   top1_acc   top5_acc: 100%|██████████| 38/38 [00:24<00:00,  1.53it/s]"
          ]
        },
        {
          "name": "stdout",
          "output_type": "stream",
          "text": [
            "                   all          1          1\n"
          ]
        },
        {
          "name": "stderr",
          "output_type": "stream",
          "text": [
            "\n"
          ]
        },
        {
          "name": "stdout",
          "output_type": "stream",
          "text": [
            "\n",
            "      Epoch    GPU_mem       loss  Instances       Size\n"
          ]
        },
        {
          "name": "stderr",
          "output_type": "stream",
          "text": [
            "     80/100      1.56G   0.004171          4        640: 100%|██████████| 302/302 [03:23<00:00,  1.49it/s]\n",
            "               classes   top1_acc   top5_acc: 100%|██████████| 38/38 [00:24<00:00,  1.54it/s]"
          ]
        },
        {
          "name": "stdout",
          "output_type": "stream",
          "text": [
            "                   all          1          1\n"
          ]
        },
        {
          "name": "stderr",
          "output_type": "stream",
          "text": [
            "\n"
          ]
        },
        {
          "name": "stdout",
          "output_type": "stream",
          "text": [
            "\n",
            "      Epoch    GPU_mem       loss  Instances       Size\n"
          ]
        },
        {
          "name": "stderr",
          "output_type": "stream",
          "text": [
            "     81/100      1.56G   0.001176          4        640: 100%|██████████| 302/302 [03:22<00:00,  1.49it/s]\n",
            "               classes   top1_acc   top5_acc: 100%|██████████| 38/38 [00:23<00:00,  1.59it/s]"
          ]
        },
        {
          "name": "stdout",
          "output_type": "stream",
          "text": [
            "                   all          1          1\n"
          ]
        },
        {
          "name": "stderr",
          "output_type": "stream",
          "text": [
            "\n"
          ]
        },
        {
          "name": "stdout",
          "output_type": "stream",
          "text": [
            "\n",
            "      Epoch    GPU_mem       loss  Instances       Size\n"
          ]
        },
        {
          "name": "stderr",
          "output_type": "stream",
          "text": [
            "     82/100      1.56G   0.001748          4        640: 100%|██████████| 302/302 [03:23<00:00,  1.48it/s]\n",
            "               classes   top1_acc   top5_acc: 100%|██████████| 38/38 [00:23<00:00,  1.61it/s]"
          ]
        },
        {
          "name": "stdout",
          "output_type": "stream",
          "text": [
            "                   all          1          1\n"
          ]
        },
        {
          "name": "stderr",
          "output_type": "stream",
          "text": [
            "\n"
          ]
        },
        {
          "name": "stdout",
          "output_type": "stream",
          "text": [
            "\n",
            "      Epoch    GPU_mem       loss  Instances       Size\n"
          ]
        },
        {
          "name": "stderr",
          "output_type": "stream",
          "text": [
            "     83/100      1.56G   0.001885          4        640: 100%|██████████| 302/302 [03:24<00:00,  1.48it/s]\n",
            "               classes   top1_acc   top5_acc: 100%|██████████| 38/38 [00:22<00:00,  1.68it/s]"
          ]
        },
        {
          "name": "stdout",
          "output_type": "stream",
          "text": [
            "                   all          1          1\n"
          ]
        },
        {
          "name": "stderr",
          "output_type": "stream",
          "text": [
            "\n"
          ]
        },
        {
          "name": "stdout",
          "output_type": "stream",
          "text": [
            "\n",
            "      Epoch    GPU_mem       loss  Instances       Size\n"
          ]
        },
        {
          "name": "stderr",
          "output_type": "stream",
          "text": [
            "     84/100      1.64G   0.003982          4        640: 100%|██████████| 302/302 [03:26<00:00,  1.46it/s]\n",
            "               classes   top1_acc   top5_acc: 100%|██████████| 38/38 [00:22<00:00,  1.65it/s]"
          ]
        },
        {
          "name": "stdout",
          "output_type": "stream",
          "text": [
            "                   all          1          1\n"
          ]
        },
        {
          "name": "stderr",
          "output_type": "stream",
          "text": [
            "\n"
          ]
        },
        {
          "name": "stdout",
          "output_type": "stream",
          "text": [
            "\n",
            "      Epoch    GPU_mem       loss  Instances       Size\n"
          ]
        },
        {
          "name": "stderr",
          "output_type": "stream",
          "text": [
            "     85/100      1.56G  0.0008499          4        640: 100%|██████████| 302/302 [03:28<00:00,  1.45it/s]\n",
            "               classes   top1_acc   top5_acc: 100%|██████████| 38/38 [00:22<00:00,  1.66it/s]"
          ]
        },
        {
          "name": "stdout",
          "output_type": "stream",
          "text": [
            "                   all          1          1\n"
          ]
        },
        {
          "name": "stderr",
          "output_type": "stream",
          "text": [
            "\n"
          ]
        },
        {
          "name": "stdout",
          "output_type": "stream",
          "text": [
            "\n",
            "      Epoch    GPU_mem       loss  Instances       Size\n"
          ]
        },
        {
          "name": "stderr",
          "output_type": "stream",
          "text": [
            "     86/100      1.56G   0.001117          4        640: 100%|██████████| 302/302 [03:28<00:00,  1.45it/s]\n",
            "               classes   top1_acc   top5_acc: 100%|██████████| 38/38 [00:26<00:00,  1.45it/s]"
          ]
        },
        {
          "name": "stdout",
          "output_type": "stream",
          "text": [
            "                   all          1          1\n"
          ]
        },
        {
          "name": "stderr",
          "output_type": "stream",
          "text": [
            "\n"
          ]
        },
        {
          "name": "stdout",
          "output_type": "stream",
          "text": [
            "\n",
            "      Epoch    GPU_mem       loss  Instances       Size\n"
          ]
        },
        {
          "name": "stderr",
          "output_type": "stream",
          "text": [
            "     87/100      1.56G   0.005986          4        640: 100%|██████████| 302/302 [03:27<00:00,  1.46it/s]\n",
            "               classes   top1_acc   top5_acc: 100%|██████████| 38/38 [00:25<00:00,  1.51it/s]"
          ]
        },
        {
          "name": "stdout",
          "output_type": "stream",
          "text": [
            "                   all          1          1\n"
          ]
        },
        {
          "name": "stderr",
          "output_type": "stream",
          "text": [
            "\n"
          ]
        },
        {
          "name": "stdout",
          "output_type": "stream",
          "text": [
            "\n",
            "      Epoch    GPU_mem       loss  Instances       Size\n"
          ]
        },
        {
          "name": "stderr",
          "output_type": "stream",
          "text": [
            "     88/100      1.56G  0.0007293          4        640: 100%|██████████| 302/302 [03:24<00:00,  1.48it/s]\n",
            "               classes   top1_acc   top5_acc: 100%|██████████| 38/38 [00:24<00:00,  1.55it/s]"
          ]
        },
        {
          "name": "stdout",
          "output_type": "stream",
          "text": [
            "                   all          1          1\n"
          ]
        },
        {
          "name": "stderr",
          "output_type": "stream",
          "text": [
            "\n"
          ]
        },
        {
          "name": "stdout",
          "output_type": "stream",
          "text": [
            "\n",
            "      Epoch    GPU_mem       loss  Instances       Size\n"
          ]
        },
        {
          "name": "stderr",
          "output_type": "stream",
          "text": [
            "     89/100      1.56G  0.0008775          4        640: 100%|██████████| 302/302 [03:27<00:00,  1.45it/s]\n",
            "               classes   top1_acc   top5_acc: 100%|██████████| 38/38 [00:23<00:00,  1.63it/s]"
          ]
        },
        {
          "name": "stdout",
          "output_type": "stream",
          "text": [
            "                   all          1          1\n"
          ]
        },
        {
          "name": "stderr",
          "output_type": "stream",
          "text": [
            "\n"
          ]
        },
        {
          "name": "stdout",
          "output_type": "stream",
          "text": [
            "\n",
            "      Epoch    GPU_mem       loss  Instances       Size\n"
          ]
        },
        {
          "name": "stderr",
          "output_type": "stream",
          "text": [
            "     90/100      1.56G  0.0005121          4        640: 100%|██████████| 302/302 [03:28<00:00,  1.45it/s]\n",
            "               classes   top1_acc   top5_acc: 100%|██████████| 38/38 [00:22<00:00,  1.67it/s]"
          ]
        },
        {
          "name": "stdout",
          "output_type": "stream",
          "text": [
            "                   all          1          1\n"
          ]
        },
        {
          "name": "stderr",
          "output_type": "stream",
          "text": [
            "\n",
            "/usr/lib/python3.10/multiprocessing/popen_fork.py:66: RuntimeWarning: os.fork() was called. os.fork() is incompatible with multithreaded code, and JAX is multithreaded, so this will likely lead to a deadlock.\n",
            "  self.pid = os.fork()\n"
          ]
        },
        {
          "name": "stdout",
          "output_type": "stream",
          "text": [
            "\n",
            "      Epoch    GPU_mem       loss  Instances       Size\n"
          ]
        },
        {
          "name": "stderr",
          "output_type": "stream",
          "text": [
            "     91/100      1.56G   0.001818          4        640: 100%|██████████| 302/302 [03:26<00:00,  1.46it/s]\n",
            "               classes   top1_acc   top5_acc: 100%|██████████| 38/38 [00:23<00:00,  1.64it/s]"
          ]
        },
        {
          "name": "stdout",
          "output_type": "stream",
          "text": [
            "                   all          1          1\n"
          ]
        },
        {
          "name": "stderr",
          "output_type": "stream",
          "text": [
            "\n"
          ]
        },
        {
          "name": "stdout",
          "output_type": "stream",
          "text": [
            "\n",
            "      Epoch    GPU_mem       loss  Instances       Size\n"
          ]
        },
        {
          "name": "stderr",
          "output_type": "stream",
          "text": [
            "     92/100      1.56G   0.001027          4        640: 100%|██████████| 302/302 [03:23<00:00,  1.48it/s]\n",
            "               classes   top1_acc   top5_acc: 100%|██████████| 38/38 [00:23<00:00,  1.60it/s]"
          ]
        },
        {
          "name": "stdout",
          "output_type": "stream",
          "text": [
            "                   all          1          1\n"
          ]
        },
        {
          "name": "stderr",
          "output_type": "stream",
          "text": [
            "\n"
          ]
        },
        {
          "name": "stdout",
          "output_type": "stream",
          "text": [
            "\n",
            "      Epoch    GPU_mem       loss  Instances       Size\n"
          ]
        },
        {
          "name": "stderr",
          "output_type": "stream",
          "text": [
            "     93/100      1.56G    0.00138          4        640: 100%|██████████| 302/302 [03:23<00:00,  1.49it/s]\n",
            "               classes   top1_acc   top5_acc: 100%|██████████| 38/38 [00:22<00:00,  1.65it/s]"
          ]
        },
        {
          "name": "stdout",
          "output_type": "stream",
          "text": [
            "                   all          1          1\n"
          ]
        },
        {
          "name": "stderr",
          "output_type": "stream",
          "text": [
            "\n"
          ]
        },
        {
          "name": "stdout",
          "output_type": "stream",
          "text": [
            "\n",
            "      Epoch    GPU_mem       loss  Instances       Size\n"
          ]
        },
        {
          "name": "stderr",
          "output_type": "stream",
          "text": [
            "     94/100      1.56G   0.001314          4        640: 100%|██████████| 302/302 [03:25<00:00,  1.47it/s]\n",
            "               classes   top1_acc   top5_acc: 100%|██████████| 38/38 [00:22<00:00,  1.66it/s]"
          ]
        },
        {
          "name": "stdout",
          "output_type": "stream",
          "text": [
            "                   all          1          1\n"
          ]
        },
        {
          "name": "stderr",
          "output_type": "stream",
          "text": [
            "\n"
          ]
        },
        {
          "name": "stdout",
          "output_type": "stream",
          "text": [
            "\n",
            "      Epoch    GPU_mem       loss  Instances       Size\n"
          ]
        },
        {
          "name": "stderr",
          "output_type": "stream",
          "text": [
            "     95/100      1.56G   0.001505          4        640: 100%|██████████| 302/302 [03:25<00:00,  1.47it/s]\n",
            "               classes   top1_acc   top5_acc: 100%|██████████| 38/38 [00:23<00:00,  1.63it/s]"
          ]
        },
        {
          "name": "stdout",
          "output_type": "stream",
          "text": [
            "                   all          1          1\n"
          ]
        },
        {
          "name": "stderr",
          "output_type": "stream",
          "text": [
            "\n"
          ]
        },
        {
          "name": "stdout",
          "output_type": "stream",
          "text": [
            "\n",
            "      Epoch    GPU_mem       loss  Instances       Size\n"
          ]
        },
        {
          "name": "stderr",
          "output_type": "stream",
          "text": [
            "     96/100      1.56G   0.002039          4        640: 100%|██████████| 302/302 [03:23<00:00,  1.48it/s]\n",
            "               classes   top1_acc   top5_acc: 100%|██████████| 38/38 [00:23<00:00,  1.59it/s]"
          ]
        },
        {
          "name": "stdout",
          "output_type": "stream",
          "text": [
            "                   all          1          1\n"
          ]
        },
        {
          "name": "stderr",
          "output_type": "stream",
          "text": [
            "\n"
          ]
        },
        {
          "name": "stdout",
          "output_type": "stream",
          "text": [
            "\n",
            "      Epoch    GPU_mem       loss  Instances       Size\n"
          ]
        },
        {
          "name": "stderr",
          "output_type": "stream",
          "text": [
            "     97/100      1.56G   0.001468          4        640: 100%|██████████| 302/302 [03:21<00:00,  1.50it/s]\n",
            "               classes   top1_acc   top5_acc: 100%|██████████| 38/38 [00:25<00:00,  1.48it/s]"
          ]
        },
        {
          "name": "stdout",
          "output_type": "stream",
          "text": [
            "                   all          1          1\n"
          ]
        },
        {
          "name": "stderr",
          "output_type": "stream",
          "text": [
            "\n"
          ]
        },
        {
          "name": "stdout",
          "output_type": "stream",
          "text": [
            "\n",
            "      Epoch    GPU_mem       loss  Instances       Size\n"
          ]
        },
        {
          "name": "stderr",
          "output_type": "stream",
          "text": [
            "     98/100      1.56G  0.0008301          4        640: 100%|██████████| 302/302 [03:21<00:00,  1.50it/s]\n",
            "               classes   top1_acc   top5_acc: 100%|██████████| 38/38 [00:25<00:00,  1.49it/s]"
          ]
        },
        {
          "name": "stdout",
          "output_type": "stream",
          "text": [
            "                   all          1          1\n"
          ]
        },
        {
          "name": "stderr",
          "output_type": "stream",
          "text": [
            "\n"
          ]
        },
        {
          "name": "stdout",
          "output_type": "stream",
          "text": [
            "\n",
            "      Epoch    GPU_mem       loss  Instances       Size\n"
          ]
        },
        {
          "name": "stderr",
          "output_type": "stream",
          "text": [
            "     99/100      1.56G  0.0007138          4        640: 100%|██████████| 302/302 [03:20<00:00,  1.51it/s]\n",
            "               classes   top1_acc   top5_acc: 100%|██████████| 38/38 [00:23<00:00,  1.59it/s]"
          ]
        },
        {
          "name": "stdout",
          "output_type": "stream",
          "text": [
            "                   all          1          1\n"
          ]
        },
        {
          "name": "stderr",
          "output_type": "stream",
          "text": [
            "\n"
          ]
        },
        {
          "name": "stdout",
          "output_type": "stream",
          "text": [
            "\n",
            "      Epoch    GPU_mem       loss  Instances       Size\n"
          ]
        },
        {
          "name": "stderr",
          "output_type": "stream",
          "text": [
            "    100/100      1.56G  0.0008056          4        640: 100%|██████████| 302/302 [03:19<00:00,  1.51it/s]\n",
            "               classes   top1_acc   top5_acc: 100%|██████████| 38/38 [00:22<00:00,  1.66it/s]"
          ]
        },
        {
          "name": "stdout",
          "output_type": "stream",
          "text": [
            "                   all          1          1\n"
          ]
        },
        {
          "name": "stderr",
          "output_type": "stream",
          "text": [
            "\n"
          ]
        },
        {
          "name": "stdout",
          "output_type": "stream",
          "text": [
            "\n",
            "100 epochs completed in 10.520 hours.\n",
            "Optimizer stripped from runs/classify/train/weights/last.pt, 3.0MB\n",
            "Optimizer stripped from runs/classify/train/weights/best.pt, 3.0MB\n",
            "\n",
            "Validating runs/classify/train/weights/best.pt...\n",
            "Ultralytics YOLOv8.2.84 🚀 Python-3.10.12 torch-2.4.0+cu121 CUDA:0 (Tesla T4, 15102MiB)\n",
            "YOLOv8n-cls summary (fused): 73 layers, 1,437,442 parameters, 0 gradients, 3.3 GFLOPs\n",
            "WARNING ⚠️ Dataset 'split=val' not found, using 'split=test' instead.\n",
            "\u001b[34m\u001b[1mtrain:\u001b[0m /content/drive/MyDrive/apple fresh/dataset4_augment/train... found 4820 images in 2 classes ✅ \n",
            "\u001b[34m\u001b[1mval:\u001b[0m None...\n",
            "\u001b[34m\u001b[1mtest:\u001b[0m /content/drive/MyDrive/apple fresh/dataset4_augment/test... found 1204 images in 2 classes ✅ \n"
          ]
        },
        {
          "name": "stderr",
          "output_type": "stream",
          "text": [
            "               classes   top1_acc   top5_acc: 100%|██████████| 38/38 [00:26<00:00,  1.41it/s]\n"
          ]
        },
        {
          "name": "stdout",
          "output_type": "stream",
          "text": [
            "                   all          1          1\n",
            "Speed: 0.6ms preprocess, 1.4ms inference, 0.0ms loss, 0.0ms postprocess per image\n",
            "Results saved to \u001b[1mruns/classify/train\u001b[0m\n",
            "Results saved to \u001b[1mruns/classify/train\u001b[0m\n"
          ]
        }
      ],
      "source": [
        "from ultralytics import YOLO\n",
        "\n",
        "# Load a model\n",
        "model = YOLO(\"yolov8n-cls.yaml\")  # build a new model from YAML\n",
        "model = YOLO(\"yolov8n-cls.pt\")  # load a pretrained model (recommended for training)\n",
        "model = YOLO(\"yolov8n-cls.yaml\").load(\"yolov8n-cls.pt\")  # build from YAML and transfer weights\n",
        "\n",
        "# Train the model\n",
        "results = model.train(data=\"/content/drive/MyDrive/apple fresh/dataset4_augment\", epochs=100, imgsz=640, patience=5, single_cls=True, verbose=True, plots=True, augment=True)"
      ]
    },
    {
      "cell_type": "code",
      "execution_count": null,
      "metadata": {
        "colab": {
          "base_uri": "https://localhost:8080/"
        },
        "id": "pyDJbBHPGmY-",
        "outputId": "951a4b69-e33d-456d-a0f6-432e79f122b3"
      },
      "outputs": [
        {
          "name": "stdout",
          "output_type": "stream",
          "text": [
            "{0: 'FRESH', 1: 'ROTTEN'}\n",
            "\n",
            "image 1/16 /content/drive/MyDrive/apple_detect/test_apple/22695339-썩은-사과-갈색-부분과-빨간색-부분.jpg: 640x640 ROTTEN 1.00, FRESH 0.00, 3.5ms\n",
            "image 2/16 /content/drive/MyDrive/apple_detect/test_apple/27723836-흰색-배경에-썩은-사과.jpg: 640x640 ROTTEN 1.00, FRESH 0.00, 4.0ms\n",
            "image 3/16 /content/drive/MyDrive/apple_detect/test_apple/63603857-썩은-사과-흰-배경에-고립.jpg: 640x640 ROTTEN 1.00, FRESH 0.00, 3.5ms\n",
            "image 4/16 /content/drive/MyDrive/apple_detect/test_apple/apple_sc.png: 640x640 ROTTEN 1.00, FRESH 0.00, 4.0ms\n",
            "image 5/16 /content/drive/MyDrive/apple_detect/test_apple/best_apple1.png: 640x640 FRESH 0.99, ROTTEN 0.01, 3.5ms\n",
            "image 6/16 /content/drive/MyDrive/apple_detect/test_apple/best_apple2.png: 640x640 FRESH 1.00, ROTTEN 0.00, 3.5ms\n",
            "image 7/16 /content/drive/MyDrive/apple_detect/test_apple/fruits.jpg: 640x640 FRESH 1.00, ROTTEN 0.00, 3.5ms\n",
            "image 8/16 /content/drive/MyDrive/apple_detect/test_apple/good_apple1.png: 640x640 FRESH 1.00, ROTTEN 0.00, 4.2ms\n",
            "image 9/16 /content/drive/MyDrive/apple_detect/test_apple/good_apple2.png: 640x640 FRESH 1.00, ROTTEN 0.00, 4.7ms\n",
            "image 10/16 /content/drive/MyDrive/apple_detect/test_apple/google_0005.jpg: 640x640 FRESH 0.59, ROTTEN 0.41, 3.5ms\n",
            "image 11/16 /content/drive/MyDrive/apple_detect/test_apple/noraml_apple2.png: 640x640 FRESH 1.00, ROTTEN 0.00, 3.6ms\n",
            "image 12/16 /content/drive/MyDrive/apple_detect/test_apple/normal_apple1.png: 640x640 FRESH 1.00, ROTTEN 0.00, 3.6ms\n",
            "image 13/16 /content/drive/MyDrive/apple_detect/test_apple/one.jpg: 640x640 FRESH 0.98, ROTTEN 0.02, 4.3ms\n",
            "image 14/16 /content/drive/MyDrive/apple_detect/test_apple/sa-gwa331688501123.jpg: 640x640 FRESH 0.65, ROTTEN 0.35, 3.5ms\n",
            "image 15/16 /content/drive/MyDrive/apple_detect/test_apple/three.jpg: 640x640 ROTTEN 1.00, FRESH 0.00, 3.5ms\n",
            "image 16/16 /content/drive/MyDrive/apple_detect/test_apple/two.jpg: 640x640 FRESH 1.00, ROTTEN 0.00, 3.5ms\n",
            "Speed: 24.3ms preprocess, 3.8ms inference, 0.1ms postprocess per image at shape (1, 3, 640, 640)\n",
            "Results saved to \u001b[1mruns/classify/predict2\u001b[0m\n"
          ]
        },
        {
          "data": {
            "text/plain": [
              "[ultralytics.engine.results.Results object with attributes:\n",
              " \n",
              " boxes: None\n",
              " keypoints: None\n",
              " masks: None\n",
              " names: {0: 'FRESH', 1: 'ROTTEN'}\n",
              " obb: None\n",
              " orig_img: array([[[255, 255, 255],\n",
              "         [255, 255, 255],\n",
              "         [255, 255, 255],\n",
              "         ...,\n",
              "         [255, 255, 255],\n",
              "         [255, 255, 255],\n",
              "         [255, 255, 255]],\n",
              " \n",
              "        [[255, 255, 255],\n",
              "         [255, 255, 255],\n",
              "         [255, 255, 255],\n",
              "         ...,\n",
              "         [255, 255, 255],\n",
              "         [255, 255, 255],\n",
              "         [255, 255, 255]],\n",
              " \n",
              "        [[255, 255, 255],\n",
              "         [255, 255, 255],\n",
              "         [255, 255, 255],\n",
              "         ...,\n",
              "         [255, 255, 255],\n",
              "         [255, 255, 255],\n",
              "         [255, 255, 255]],\n",
              " \n",
              "        ...,\n",
              " \n",
              "        [[255, 255, 255],\n",
              "         [255, 255, 255],\n",
              "         [255, 255, 255],\n",
              "         ...,\n",
              "         [255, 255, 255],\n",
              "         [255, 255, 255],\n",
              "         [255, 255, 255]],\n",
              " \n",
              "        [[255, 255, 255],\n",
              "         [255, 255, 255],\n",
              "         [255, 255, 255],\n",
              "         ...,\n",
              "         [255, 255, 255],\n",
              "         [255, 255, 255],\n",
              "         [255, 255, 255]],\n",
              " \n",
              "        [[255, 255, 255],\n",
              "         [255, 255, 255],\n",
              "         [255, 255, 255],\n",
              "         ...,\n",
              "         [255, 255, 255],\n",
              "         [255, 255, 255],\n",
              "         [255, 255, 255]]], dtype=uint8)\n",
              " orig_shape: (1224, 1300)\n",
              " path: '/content/drive/MyDrive/apple_detect/test_apple/22695339-썩은-사과-갈색-부분과-빨간색-부분.jpg'\n",
              " probs: ultralytics.engine.results.Probs object\n",
              " save_dir: 'runs/classify/predict2'\n",
              " speed: {'preprocess': 28.65910530090332, 'inference': 3.522634506225586, 'postprocess': 0.06818771362304688},\n",
              " ultralytics.engine.results.Results object with attributes:\n",
              " \n",
              " boxes: None\n",
              " keypoints: None\n",
              " masks: None\n",
              " names: {0: 'FRESH', 1: 'ROTTEN'}\n",
              " obb: None\n",
              " orig_img: array([[[255, 255, 255],\n",
              "         [255, 255, 255],\n",
              "         [255, 255, 255],\n",
              "         ...,\n",
              "         [255, 255, 255],\n",
              "         [255, 255, 255],\n",
              "         [255, 255, 255]],\n",
              " \n",
              "        [[255, 255, 255],\n",
              "         [255, 255, 255],\n",
              "         [255, 255, 255],\n",
              "         ...,\n",
              "         [255, 255, 255],\n",
              "         [255, 255, 255],\n",
              "         [255, 255, 255]],\n",
              " \n",
              "        [[255, 255, 255],\n",
              "         [255, 255, 255],\n",
              "         [255, 255, 255],\n",
              "         ...,\n",
              "         [255, 255, 255],\n",
              "         [255, 255, 255],\n",
              "         [255, 255, 255]],\n",
              " \n",
              "        ...,\n",
              " \n",
              "        [[255, 255, 255],\n",
              "         [255, 255, 255],\n",
              "         [255, 255, 255],\n",
              "         ...,\n",
              "         [255, 255, 255],\n",
              "         [255, 255, 255],\n",
              "         [255, 255, 255]],\n",
              " \n",
              "        [[255, 255, 255],\n",
              "         [255, 255, 255],\n",
              "         [255, 255, 255],\n",
              "         ...,\n",
              "         [255, 255, 255],\n",
              "         [255, 255, 255],\n",
              "         [255, 255, 255]],\n",
              " \n",
              "        [[255, 255, 255],\n",
              "         [255, 255, 255],\n",
              "         [255, 255, 255],\n",
              "         ...,\n",
              "         [255, 255, 255],\n",
              "         [255, 255, 255],\n",
              "         [255, 255, 255]]], dtype=uint8)\n",
              " orig_shape: (867, 1300)\n",
              " path: '/content/drive/MyDrive/apple_detect/test_apple/27723836-흰색-배경에-썩은-사과.jpg'\n",
              " probs: ultralytics.engine.results.Probs object\n",
              " save_dir: 'runs/classify/predict2'\n",
              " speed: {'preprocess': 29.157161712646484, 'inference': 4.04047966003418, 'postprocess': 0.053882598876953125},\n",
              " ultralytics.engine.results.Results object with attributes:\n",
              " \n",
              " boxes: None\n",
              " keypoints: None\n",
              " masks: None\n",
              " names: {0: 'FRESH', 1: 'ROTTEN'}\n",
              " obb: None\n",
              " orig_img: array([[[255, 255, 255],\n",
              "         [255, 255, 255],\n",
              "         [255, 255, 255],\n",
              "         ...,\n",
              "         [255, 255, 255],\n",
              "         [255, 255, 255],\n",
              "         [255, 255, 255]],\n",
              " \n",
              "        [[255, 255, 255],\n",
              "         [255, 255, 255],\n",
              "         [255, 255, 255],\n",
              "         ...,\n",
              "         [255, 255, 255],\n",
              "         [255, 255, 255],\n",
              "         [255, 255, 255]],\n",
              " \n",
              "        [[255, 255, 255],\n",
              "         [255, 255, 255],\n",
              "         [255, 255, 255],\n",
              "         ...,\n",
              "         [255, 255, 255],\n",
              "         [255, 255, 255],\n",
              "         [255, 255, 255]],\n",
              " \n",
              "        ...,\n",
              " \n",
              "        [[255, 255, 255],\n",
              "         [255, 255, 255],\n",
              "         [255, 255, 255],\n",
              "         ...,\n",
              "         [255, 255, 255],\n",
              "         [255, 255, 255],\n",
              "         [255, 255, 255]],\n",
              " \n",
              "        [[255, 255, 255],\n",
              "         [255, 255, 255],\n",
              "         [255, 255, 255],\n",
              "         ...,\n",
              "         [255, 255, 255],\n",
              "         [255, 255, 255],\n",
              "         [255, 255, 255]],\n",
              " \n",
              "        [[255, 255, 255],\n",
              "         [255, 255, 255],\n",
              "         [255, 255, 255],\n",
              "         ...,\n",
              "         [255, 255, 255],\n",
              "         [255, 255, 255],\n",
              "         [255, 255, 255]]], dtype=uint8)\n",
              " orig_shape: (1055, 1300)\n",
              " path: '/content/drive/MyDrive/apple_detect/test_apple/63603857-썩은-사과-흰-배경에-고립.jpg'\n",
              " probs: ultralytics.engine.results.Probs object\n",
              " save_dir: 'runs/classify/predict2'\n",
              " speed: {'preprocess': 26.838302612304688, 'inference': 3.5223960876464844, 'postprocess': 0.051975250244140625},\n",
              " ultralytics.engine.results.Results object with attributes:\n",
              " \n",
              " boxes: None\n",
              " keypoints: None\n",
              " masks: None\n",
              " names: {0: 'FRESH', 1: 'ROTTEN'}\n",
              " obb: None\n",
              " orig_img: array([[[255, 255, 255],\n",
              "         [255, 255, 255],\n",
              "         [255, 255, 255],\n",
              "         ...,\n",
              "         [255, 255, 255],\n",
              "         [255, 255, 255],\n",
              "         [255, 255, 255]],\n",
              " \n",
              "        [[255, 255, 255],\n",
              "         [255, 255, 255],\n",
              "         [255, 255, 255],\n",
              "         ...,\n",
              "         [255, 255, 255],\n",
              "         [255, 255, 255],\n",
              "         [255, 255, 255]],\n",
              " \n",
              "        [[255, 255, 255],\n",
              "         [255, 255, 255],\n",
              "         [255, 255, 255],\n",
              "         ...,\n",
              "         [255, 255, 255],\n",
              "         [255, 255, 255],\n",
              "         [255, 255, 255]],\n",
              " \n",
              "        ...,\n",
              " \n",
              "        [[255, 255, 255],\n",
              "         [255, 255, 255],\n",
              "         [255, 255, 255],\n",
              "         ...,\n",
              "         [ 95, 120, 187],\n",
              "         [ 94, 118, 184],\n",
              "         [103, 126, 187]],\n",
              " \n",
              "        [[255, 255, 255],\n",
              "         [255, 255, 255],\n",
              "         [255, 255, 255],\n",
              "         ...,\n",
              "         [ 95, 119, 187],\n",
              "         [104, 127, 188],\n",
              "         [216, 222, 238]],\n",
              " \n",
              "        [[255, 255, 255],\n",
              "         [255, 255, 255],\n",
              "         [255, 255, 255],\n",
              "         ...,\n",
              "         [126, 146, 200],\n",
              "         [226, 230, 242],\n",
              "         [255, 255, 255]]], dtype=uint8)\n",
              " orig_shape: (726, 1298)\n",
              " path: '/content/drive/MyDrive/apple_detect/test_apple/apple_sc.png'\n",
              " probs: ultralytics.engine.results.Probs object\n",
              " save_dir: 'runs/classify/predict2'\n",
              " speed: {'preprocess': 25.82406997680664, 'inference': 3.962278366088867, 'postprocess': 0.06842613220214844},\n",
              " ultralytics.engine.results.Results object with attributes:\n",
              " \n",
              " boxes: None\n",
              " keypoints: None\n",
              " masks: None\n",
              " names: {0: 'FRESH', 1: 'ROTTEN'}\n",
              " obb: None\n",
              " orig_img: array([[[254, 254, 254],\n",
              "         [254, 254, 254],\n",
              "         [254, 254, 254],\n",
              "         ...,\n",
              "         [254, 254, 254],\n",
              "         [254, 254, 254],\n",
              "         [254, 254, 254]],\n",
              " \n",
              "        [[254, 254, 254],\n",
              "         [254, 254, 254],\n",
              "         [254, 254, 254],\n",
              "         ...,\n",
              "         [254, 254, 254],\n",
              "         [254, 254, 254],\n",
              "         [254, 254, 254]],\n",
              " \n",
              "        [[254, 254, 254],\n",
              "         [254, 254, 254],\n",
              "         [254, 254, 254],\n",
              "         ...,\n",
              "         [254, 254, 254],\n",
              "         [254, 254, 254],\n",
              "         [254, 254, 254]],\n",
              " \n",
              "        ...,\n",
              " \n",
              "        [[254, 254, 254],\n",
              "         [254, 254, 254],\n",
              "         [254, 254, 254],\n",
              "         ...,\n",
              "         [254, 254, 254],\n",
              "         [254, 254, 254],\n",
              "         [254, 254, 254]],\n",
              " \n",
              "        [[254, 254, 254],\n",
              "         [254, 254, 254],\n",
              "         [254, 254, 254],\n",
              "         ...,\n",
              "         [254, 254, 254],\n",
              "         [254, 254, 254],\n",
              "         [254, 254, 254]],\n",
              " \n",
              "        [[254, 254, 254],\n",
              "         [254, 254, 254],\n",
              "         [254, 254, 254],\n",
              "         ...,\n",
              "         [254, 254, 254],\n",
              "         [254, 254, 254],\n",
              "         [254, 254, 254]]], dtype=uint8)\n",
              " orig_shape: (1000, 1000)\n",
              " path: '/content/drive/MyDrive/apple_detect/test_apple/best_apple1.png'\n",
              " probs: ultralytics.engine.results.Probs object\n",
              " save_dir: 'runs/classify/predict2'\n",
              " speed: {'preprocess': 20.597457885742188, 'inference': 3.5233497619628906, 'postprocess': 0.05459785461425781},\n",
              " ultralytics.engine.results.Results object with attributes:\n",
              " \n",
              " boxes: None\n",
              " keypoints: None\n",
              " masks: None\n",
              " names: {0: 'FRESH', 1: 'ROTTEN'}\n",
              " obb: None\n",
              " orig_img: array([[[254, 254, 254],\n",
              "         [254, 254, 254],\n",
              "         [254, 254, 254],\n",
              "         ...,\n",
              "         [254, 254, 254],\n",
              "         [254, 254, 254],\n",
              "         [254, 254, 254]],\n",
              " \n",
              "        [[254, 254, 254],\n",
              "         [254, 254, 254],\n",
              "         [254, 254, 254],\n",
              "         ...,\n",
              "         [254, 254, 254],\n",
              "         [254, 254, 254],\n",
              "         [254, 254, 254]],\n",
              " \n",
              "        [[254, 254, 254],\n",
              "         [254, 254, 254],\n",
              "         [254, 254, 254],\n",
              "         ...,\n",
              "         [254, 254, 254],\n",
              "         [254, 254, 254],\n",
              "         [254, 254, 254]],\n",
              " \n",
              "        ...,\n",
              " \n",
              "        [[254, 254, 254],\n",
              "         [254, 254, 254],\n",
              "         [254, 254, 254],\n",
              "         ...,\n",
              "         [254, 254, 254],\n",
              "         [254, 254, 254],\n",
              "         [254, 254, 254]],\n",
              " \n",
              "        [[254, 254, 254],\n",
              "         [254, 254, 254],\n",
              "         [254, 254, 254],\n",
              "         ...,\n",
              "         [254, 254, 254],\n",
              "         [254, 254, 254],\n",
              "         [254, 254, 254]],\n",
              " \n",
              "        [[254, 254, 254],\n",
              "         [254, 254, 254],\n",
              "         [254, 254, 254],\n",
              "         ...,\n",
              "         [254, 254, 254],\n",
              "         [254, 254, 254],\n",
              "         [254, 254, 254]]], dtype=uint8)\n",
              " orig_shape: (1000, 1000)\n",
              " path: '/content/drive/MyDrive/apple_detect/test_apple/best_apple2.png'\n",
              " probs: ultralytics.engine.results.Probs object\n",
              " save_dir: 'runs/classify/predict2'\n",
              " speed: {'preprocess': 24.028539657592773, 'inference': 3.5238265991210938, 'postprocess': 0.05221366882324219},\n",
              " ultralytics.engine.results.Results object with attributes:\n",
              " \n",
              " boxes: None\n",
              " keypoints: None\n",
              " masks: None\n",
              " names: {0: 'FRESH', 1: 'ROTTEN'}\n",
              " obb: None\n",
              " orig_img: array([[[239, 241, 242],\n",
              "         [240, 242, 243],\n",
              "         [240, 242, 243],\n",
              "         ...,\n",
              "         [239, 238, 240],\n",
              "         [239, 238, 240],\n",
              "         [239, 238, 240]],\n",
              " \n",
              "        [[241, 243, 244],\n",
              "         [240, 242, 243],\n",
              "         [240, 242, 243],\n",
              "         ...,\n",
              "         [239, 238, 240],\n",
              "         [239, 238, 240],\n",
              "         [239, 238, 240]],\n",
              " \n",
              "        [[243, 242, 244],\n",
              "         [242, 241, 243],\n",
              "         [241, 240, 242],\n",
              "         ...,\n",
              "         [239, 238, 240],\n",
              "         [239, 238, 240],\n",
              "         [239, 238, 240]],\n",
              " \n",
              "        ...,\n",
              " \n",
              "        [[238, 237, 239],\n",
              "         [238, 237, 239],\n",
              "         [237, 236, 238],\n",
              "         ...,\n",
              "         [215, 217, 218],\n",
              "         [218, 220, 221],\n",
              "         [218, 220, 221]],\n",
              " \n",
              "        [[238, 237, 239],\n",
              "         [238, 237, 239],\n",
              "         [237, 236, 238],\n",
              "         ...,\n",
              "         [216, 218, 219],\n",
              "         [219, 221, 222],\n",
              "         [219, 221, 222]],\n",
              " \n",
              "        [[238, 237, 239],\n",
              "         [238, 237, 239],\n",
              "         [238, 237, 239],\n",
              "         ...,\n",
              "         [217, 219, 220],\n",
              "         [220, 222, 223],\n",
              "         [220, 222, 223]]], dtype=uint8)\n",
              " orig_shape: (556, 740)\n",
              " path: '/content/drive/MyDrive/apple_detect/test_apple/fruits.jpg'\n",
              " probs: ultralytics.engine.results.Probs object\n",
              " save_dir: 'runs/classify/predict2'\n",
              " speed: {'preprocess': 21.20494842529297, 'inference': 3.540515899658203, 'postprocess': 0.0896453857421875},\n",
              " ultralytics.engine.results.Results object with attributes:\n",
              " \n",
              " boxes: None\n",
              " keypoints: None\n",
              " masks: None\n",
              " names: {0: 'FRESH', 1: 'ROTTEN'}\n",
              " obb: None\n",
              " orig_img: array([[[254, 254, 254],\n",
              "         [254, 254, 254],\n",
              "         [254, 254, 254],\n",
              "         ...,\n",
              "         [254, 254, 254],\n",
              "         [254, 254, 254],\n",
              "         [254, 254, 254]],\n",
              " \n",
              "        [[254, 254, 254],\n",
              "         [254, 254, 254],\n",
              "         [254, 254, 254],\n",
              "         ...,\n",
              "         [254, 254, 254],\n",
              "         [254, 254, 254],\n",
              "         [254, 254, 254]],\n",
              " \n",
              "        [[254, 254, 254],\n",
              "         [254, 254, 254],\n",
              "         [254, 254, 254],\n",
              "         ...,\n",
              "         [254, 254, 254],\n",
              "         [254, 254, 254],\n",
              "         [254, 254, 254]],\n",
              " \n",
              "        ...,\n",
              " \n",
              "        [[254, 254, 254],\n",
              "         [254, 254, 254],\n",
              "         [254, 254, 254],\n",
              "         ...,\n",
              "         [254, 254, 254],\n",
              "         [254, 254, 254],\n",
              "         [254, 254, 254]],\n",
              " \n",
              "        [[254, 254, 254],\n",
              "         [254, 254, 254],\n",
              "         [254, 254, 254],\n",
              "         ...,\n",
              "         [254, 254, 254],\n",
              "         [254, 254, 254],\n",
              "         [254, 254, 254]],\n",
              " \n",
              "        [[254, 254, 254],\n",
              "         [254, 254, 254],\n",
              "         [254, 254, 254],\n",
              "         ...,\n",
              "         [254, 254, 254],\n",
              "         [254, 254, 254],\n",
              "         [254, 254, 254]]], dtype=uint8)\n",
              " orig_shape: (1000, 1000)\n",
              " path: '/content/drive/MyDrive/apple_detect/test_apple/good_apple1.png'\n",
              " probs: ultralytics.engine.results.Probs object\n",
              " save_dir: 'runs/classify/predict2'\n",
              " speed: {'preprocess': 21.71158790588379, 'inference': 4.249811172485352, 'postprocess': 0.06747245788574219},\n",
              " ultralytics.engine.results.Results object with attributes:\n",
              " \n",
              " boxes: None\n",
              " keypoints: None\n",
              " masks: None\n",
              " names: {0: 'FRESH', 1: 'ROTTEN'}\n",
              " obb: None\n",
              " orig_img: array([[[254, 254, 254],\n",
              "         [254, 254, 254],\n",
              "         [254, 254, 254],\n",
              "         ...,\n",
              "         [254, 254, 254],\n",
              "         [254, 254, 254],\n",
              "         [254, 254, 254]],\n",
              " \n",
              "        [[254, 254, 254],\n",
              "         [254, 254, 254],\n",
              "         [254, 254, 254],\n",
              "         ...,\n",
              "         [254, 254, 254],\n",
              "         [254, 254, 254],\n",
              "         [254, 254, 254]],\n",
              " \n",
              "        [[254, 254, 254],\n",
              "         [254, 254, 254],\n",
              "         [254, 254, 254],\n",
              "         ...,\n",
              "         [254, 254, 254],\n",
              "         [254, 254, 254],\n",
              "         [254, 254, 254]],\n",
              " \n",
              "        ...,\n",
              " \n",
              "        [[254, 254, 254],\n",
              "         [254, 254, 254],\n",
              "         [254, 254, 254],\n",
              "         ...,\n",
              "         [254, 254, 254],\n",
              "         [254, 254, 254],\n",
              "         [254, 254, 254]],\n",
              " \n",
              "        [[254, 254, 254],\n",
              "         [254, 254, 254],\n",
              "         [254, 254, 254],\n",
              "         ...,\n",
              "         [254, 254, 254],\n",
              "         [254, 254, 254],\n",
              "         [254, 254, 254]],\n",
              " \n",
              "        [[254, 254, 254],\n",
              "         [254, 254, 254],\n",
              "         [254, 254, 254],\n",
              "         ...,\n",
              "         [254, 254, 254],\n",
              "         [254, 254, 254],\n",
              "         [254, 254, 254]]], dtype=uint8)\n",
              " orig_shape: (1000, 1000)\n",
              " path: '/content/drive/MyDrive/apple_detect/test_apple/good_apple2.png'\n",
              " probs: ultralytics.engine.results.Probs object\n",
              " save_dir: 'runs/classify/predict2'\n",
              " speed: {'preprocess': 27.0235538482666, 'inference': 4.719018936157227, 'postprocess': 0.05316734313964844},\n",
              " ultralytics.engine.results.Results object with attributes:\n",
              " \n",
              " boxes: None\n",
              " keypoints: None\n",
              " masks: None\n",
              " names: {0: 'FRESH', 1: 'ROTTEN'}\n",
              " obb: None\n",
              " orig_img: array([[[153, 182, 213],\n",
              "         [153, 182, 213],\n",
              "         [153, 182, 213],\n",
              "         ...,\n",
              "         [124, 145, 172],\n",
              "         [124, 145, 172],\n",
              "         [124, 145, 172]],\n",
              " \n",
              "        [[152, 181, 212],\n",
              "         [152, 181, 212],\n",
              "         [152, 181, 212],\n",
              "         ...,\n",
              "         [124, 145, 172],\n",
              "         [124, 145, 172],\n",
              "         [124, 145, 172]],\n",
              " \n",
              "        [[152, 181, 212],\n",
              "         [152, 181, 212],\n",
              "         [152, 181, 212],\n",
              "         ...,\n",
              "         [124, 145, 172],\n",
              "         [124, 145, 172],\n",
              "         [124, 145, 172]],\n",
              " \n",
              "        ...,\n",
              " \n",
              "        [[218, 184, 171],\n",
              "         [225, 196, 187],\n",
              "         [212, 192, 191],\n",
              "         ...,\n",
              "         [ 90,  76,  78],\n",
              "         [144, 127, 124],\n",
              "         [238, 219, 212]],\n",
              " \n",
              "        [[217, 182, 172],\n",
              "         [223, 194, 187],\n",
              "         [215, 194, 196],\n",
              "         ...,\n",
              "         [ 95,  81,  83],\n",
              "         [175, 158, 155],\n",
              "         [235, 216, 209]],\n",
              " \n",
              "        [[216, 181, 171],\n",
              "         [219, 190, 183],\n",
              "         [217, 196, 198],\n",
              "         ...,\n",
              "         [ 94,  80,  82],\n",
              "         [196, 179, 176],\n",
              "         [232, 213, 205]]], dtype=uint8)\n",
              " orig_shape: (216, 233)\n",
              " path: '/content/drive/MyDrive/apple_detect/test_apple/google_0005.jpg'\n",
              " probs: ultralytics.engine.results.Probs object\n",
              " save_dir: 'runs/classify/predict2'\n",
              " speed: {'preprocess': 12.089967727661133, 'inference': 3.5042762756347656, 'postprocess': 0.049591064453125},\n",
              " ultralytics.engine.results.Results object with attributes:\n",
              " \n",
              " boxes: None\n",
              " keypoints: None\n",
              " masks: None\n",
              " names: {0: 'FRESH', 1: 'ROTTEN'}\n",
              " obb: None\n",
              " orig_img: array([[[254, 254, 254],\n",
              "         [254, 254, 254],\n",
              "         [254, 254, 254],\n",
              "         ...,\n",
              "         [254, 254, 254],\n",
              "         [254, 254, 254],\n",
              "         [254, 254, 254]],\n",
              " \n",
              "        [[254, 254, 254],\n",
              "         [254, 254, 254],\n",
              "         [254, 254, 254],\n",
              "         ...,\n",
              "         [254, 254, 254],\n",
              "         [254, 254, 254],\n",
              "         [254, 254, 254]],\n",
              " \n",
              "        [[254, 254, 254],\n",
              "         [254, 254, 254],\n",
              "         [254, 254, 254],\n",
              "         ...,\n",
              "         [254, 254, 254],\n",
              "         [254, 254, 254],\n",
              "         [254, 254, 254]],\n",
              " \n",
              "        ...,\n",
              " \n",
              "        [[254, 254, 254],\n",
              "         [254, 254, 254],\n",
              "         [254, 254, 254],\n",
              "         ...,\n",
              "         [254, 254, 254],\n",
              "         [254, 254, 254],\n",
              "         [254, 254, 254]],\n",
              " \n",
              "        [[254, 254, 254],\n",
              "         [254, 254, 254],\n",
              "         [254, 254, 254],\n",
              "         ...,\n",
              "         [254, 254, 254],\n",
              "         [254, 254, 254],\n",
              "         [254, 254, 254]],\n",
              " \n",
              "        [[254, 254, 254],\n",
              "         [254, 254, 254],\n",
              "         [254, 254, 254],\n",
              "         ...,\n",
              "         [254, 254, 254],\n",
              "         [254, 254, 254],\n",
              "         [254, 254, 254]]], dtype=uint8)\n",
              " orig_shape: (1000, 1000)\n",
              " path: '/content/drive/MyDrive/apple_detect/test_apple/noraml_apple2.png'\n",
              " probs: ultralytics.engine.results.Probs object\n",
              " save_dir: 'runs/classify/predict2'\n",
              " speed: {'preprocess': 20.51401138305664, 'inference': 3.6046504974365234, 'postprocess': 0.0667572021484375},\n",
              " ultralytics.engine.results.Results object with attributes:\n",
              " \n",
              " boxes: None\n",
              " keypoints: None\n",
              " masks: None\n",
              " names: {0: 'FRESH', 1: 'ROTTEN'}\n",
              " obb: None\n",
              " orig_img: array([[[254, 254, 254],\n",
              "         [254, 254, 254],\n",
              "         [254, 254, 254],\n",
              "         ...,\n",
              "         [254, 254, 254],\n",
              "         [254, 254, 254],\n",
              "         [254, 254, 254]],\n",
              " \n",
              "        [[254, 254, 254],\n",
              "         [254, 254, 254],\n",
              "         [254, 254, 254],\n",
              "         ...,\n",
              "         [254, 254, 254],\n",
              "         [254, 254, 254],\n",
              "         [254, 254, 254]],\n",
              " \n",
              "        [[254, 254, 254],\n",
              "         [254, 254, 254],\n",
              "         [254, 254, 254],\n",
              "         ...,\n",
              "         [254, 254, 254],\n",
              "         [254, 254, 254],\n",
              "         [254, 254, 254]],\n",
              " \n",
              "        ...,\n",
              " \n",
              "        [[254, 254, 254],\n",
              "         [254, 254, 254],\n",
              "         [254, 254, 254],\n",
              "         ...,\n",
              "         [254, 254, 254],\n",
              "         [254, 254, 254],\n",
              "         [254, 254, 254]],\n",
              " \n",
              "        [[254, 254, 254],\n",
              "         [254, 254, 254],\n",
              "         [254, 254, 254],\n",
              "         ...,\n",
              "         [254, 254, 254],\n",
              "         [254, 254, 254],\n",
              "         [254, 254, 254]],\n",
              " \n",
              "        [[254, 254, 254],\n",
              "         [254, 254, 254],\n",
              "         [254, 254, 254],\n",
              "         ...,\n",
              "         [254, 254, 254],\n",
              "         [254, 254, 254],\n",
              "         [254, 254, 254]]], dtype=uint8)\n",
              " orig_shape: (1000, 1000)\n",
              " path: '/content/drive/MyDrive/apple_detect/test_apple/normal_apple1.png'\n",
              " probs: ultralytics.engine.results.Probs object\n",
              " save_dir: 'runs/classify/predict2'\n",
              " speed: {'preprocess': 25.2535343170166, 'inference': 3.567218780517578, 'postprocess': 0.06985664367675781},\n",
              " ultralytics.engine.results.Results object with attributes:\n",
              " \n",
              " boxes: None\n",
              " keypoints: None\n",
              " masks: None\n",
              " names: {0: 'FRESH', 1: 'ROTTEN'}\n",
              " obb: None\n",
              " orig_img: array([[[  2,   7,  28],\n",
              "         [  2,   7,  28],\n",
              "         [  1,   6,  27],\n",
              "         ...,\n",
              "         [  0,   0,   8],\n",
              "         [  0,   0,   8],\n",
              "         [  0,   0,   8]],\n",
              " \n",
              "        [[  2,   7,  28],\n",
              "         [  2,   7,  28],\n",
              "         [  1,   6,  27],\n",
              "         ...,\n",
              "         [  0,   0,   8],\n",
              "         [  0,   0,   8],\n",
              "         [  0,   0,   8]],\n",
              " \n",
              "        [[  2,   7,  28],\n",
              "         [  2,   7,  28],\n",
              "         [  1,   6,  27],\n",
              "         ...,\n",
              "         [  0,   0,   8],\n",
              "         [  0,   0,   8],\n",
              "         [  0,   0,   8]],\n",
              " \n",
              "        ...,\n",
              " \n",
              "        [[ 53,  73, 128],\n",
              "         [ 40,  59, 116],\n",
              "         [ 39,  59, 117],\n",
              "         ...,\n",
              "         [  0,   1,  21],\n",
              "         [  0,   2,  26],\n",
              "         [  0,   2,  30]],\n",
              " \n",
              "        [[ 43,  60, 116],\n",
              "         [ 29,  48, 105],\n",
              "         [ 30,  48, 107],\n",
              "         ...,\n",
              "         [  0,   1,  21],\n",
              "         [  0,   2,  26],\n",
              "         [  0,   2,  30]],\n",
              " \n",
              "        [[ 40,  57, 113],\n",
              "         [ 29,  46, 102],\n",
              "         [ 30,  49, 106],\n",
              "         ...,\n",
              "         [  0,   1,  21],\n",
              "         [  0,   2,  26],\n",
              "         [  0,   2,  30]]], dtype=uint8)\n",
              " orig_shape: (683, 1024)\n",
              " path: '/content/drive/MyDrive/apple_detect/test_apple/one.jpg'\n",
              " probs: ultralytics.engine.results.Probs object\n",
              " save_dir: 'runs/classify/predict2'\n",
              " speed: {'preprocess': 25.067567825317383, 'inference': 4.335165023803711, 'postprocess': 0.07605552673339844},\n",
              " ultralytics.engine.results.Results object with attributes:\n",
              " \n",
              " boxes: None\n",
              " keypoints: None\n",
              " masks: None\n",
              " names: {0: 'FRESH', 1: 'ROTTEN'}\n",
              " obb: None\n",
              " orig_img: array([[[137, 131, 136],\n",
              "         [142, 136, 141],\n",
              "         [152, 146, 151],\n",
              "         ...,\n",
              "         [144, 138, 143],\n",
              "         [162, 156, 161],\n",
              "         [173, 167, 172]],\n",
              " \n",
              "        [[108, 100, 111],\n",
              "         [112, 104, 115],\n",
              "         [120, 112, 123],\n",
              "         ...,\n",
              "         [145, 139, 144],\n",
              "         [162, 156, 161],\n",
              "         [172, 166, 171]],\n",
              " \n",
              "        [[ 98,  84, 108],\n",
              "         [101,  87, 111],\n",
              "         [107,  95, 117],\n",
              "         ...,\n",
              "         [136, 130, 135],\n",
              "         [152, 146, 151],\n",
              "         [160, 154, 159]],\n",
              " \n",
              "        ...,\n",
              " \n",
              "        [[185, 210, 214],\n",
              "         [187, 212, 216],\n",
              "         [185, 210, 214],\n",
              "         ...,\n",
              "         [156, 149, 156],\n",
              "         [156, 149, 156],\n",
              "         [158, 151, 158]],\n",
              " \n",
              "        [[168, 203, 199],\n",
              "         [164, 199, 195],\n",
              "         [166, 199, 195],\n",
              "         ...,\n",
              "         [161, 154, 161],\n",
              "         [161, 154, 161],\n",
              "         [162, 155, 162]],\n",
              " \n",
              "        [[145, 186, 178],\n",
              "         [142, 183, 175],\n",
              "         [144, 183, 175],\n",
              "         ...,\n",
              "         [161, 154, 161],\n",
              "         [161, 154, 161],\n",
              "         [162, 155, 162]]], dtype=uint8)\n",
              " orig_shape: (826, 1398)\n",
              " path: '/content/drive/MyDrive/apple_detect/test_apple/sa-gwa331688501123.jpg'\n",
              " probs: ultralytics.engine.results.Probs object\n",
              " save_dir: 'runs/classify/predict2'\n",
              " speed: {'preprocess': 24.495840072631836, 'inference': 3.5195350646972656, 'postprocess': 0.05078315734863281},\n",
              " ultralytics.engine.results.Results object with attributes:\n",
              " \n",
              " boxes: None\n",
              " keypoints: None\n",
              " masks: None\n",
              " names: {0: 'FRESH', 1: 'ROTTEN'}\n",
              " obb: None\n",
              " orig_img: array([[[ 2,  8, 31],\n",
              "         [ 2,  8, 31],\n",
              "         [ 2,  8, 31],\n",
              "         ...,\n",
              "         [ 2,  0, 12],\n",
              "         [ 2,  0, 12],\n",
              "         [ 2,  0, 12]],\n",
              " \n",
              "        [[ 2,  8, 31],\n",
              "         [ 2,  8, 31],\n",
              "         [ 2,  8, 31],\n",
              "         ...,\n",
              "         [ 2,  0, 12],\n",
              "         [ 2,  0, 12],\n",
              "         [ 2,  0, 12]],\n",
              " \n",
              "        [[ 2,  8, 31],\n",
              "         [ 2,  8, 31],\n",
              "         [ 2,  8, 31],\n",
              "         ...,\n",
              "         [ 2,  0, 12],\n",
              "         [ 2,  0, 12],\n",
              "         [ 2,  0, 12]],\n",
              " \n",
              "        ...,\n",
              " \n",
              "        [[50, 50, 50],\n",
              "         [50, 50, 50],\n",
              "         [50, 50, 50],\n",
              "         ...,\n",
              "         [50, 50, 50],\n",
              "         [50, 50, 50],\n",
              "         [50, 50, 50]],\n",
              " \n",
              "        [[50, 50, 50],\n",
              "         [50, 50, 50],\n",
              "         [50, 50, 50],\n",
              "         ...,\n",
              "         [50, 50, 50],\n",
              "         [50, 50, 50],\n",
              "         [50, 50, 50]],\n",
              " \n",
              "        [[50, 50, 50],\n",
              "         [50, 50, 50],\n",
              "         [50, 50, 50],\n",
              "         ...,\n",
              "         [50, 50, 50],\n",
              "         [50, 50, 50],\n",
              "         [50, 50, 50]]], dtype=uint8)\n",
              " orig_shape: (1167, 1600)\n",
              " path: '/content/drive/MyDrive/apple_detect/test_apple/three.jpg'\n",
              " probs: ultralytics.engine.results.Probs object\n",
              " save_dir: 'runs/classify/predict2'\n",
              " speed: {'preprocess': 31.14771842956543, 'inference': 3.5343170166015625, 'postprocess': 0.05269050598144531},\n",
              " ultralytics.engine.results.Results object with attributes:\n",
              " \n",
              " boxes: None\n",
              " keypoints: None\n",
              " masks: None\n",
              " names: {0: 'FRESH', 1: 'ROTTEN'}\n",
              " obb: None\n",
              " orig_img: array([[[ 0,  3,  8],\n",
              "         [ 0,  3,  8],\n",
              "         [ 0,  3,  8],\n",
              "         ...,\n",
              "         [ 1,  1,  1],\n",
              "         [ 1,  1,  1],\n",
              "         [ 1,  1,  1]],\n",
              " \n",
              "        [[ 0,  3,  8],\n",
              "         [ 0,  3,  8],\n",
              "         [ 0,  3,  8],\n",
              "         ...,\n",
              "         [ 1,  1,  1],\n",
              "         [ 1,  1,  1],\n",
              "         [ 1,  1,  1]],\n",
              " \n",
              "        [[ 0,  3,  8],\n",
              "         [ 0,  3,  8],\n",
              "         [ 0,  3,  8],\n",
              "         ...,\n",
              "         [ 1,  1,  1],\n",
              "         [ 1,  1,  1],\n",
              "         [ 1,  1,  1]],\n",
              " \n",
              "        ...,\n",
              " \n",
              "        [[59, 58, 60],\n",
              "         [56, 58, 59],\n",
              "         [53, 57, 58],\n",
              "         ...,\n",
              "         [30, 27, 22],\n",
              "         [26, 23, 19],\n",
              "         [24, 21, 17]],\n",
              " \n",
              "        [[54, 59, 60],\n",
              "         [53, 58, 59],\n",
              "         [49, 59, 59],\n",
              "         ...,\n",
              "         [27, 23, 18],\n",
              "         [24, 19, 16],\n",
              "         [22, 17, 14]],\n",
              " \n",
              "        [[55, 63, 63],\n",
              "         [53, 63, 63],\n",
              "         [52, 64, 64],\n",
              "         ...,\n",
              "         [25, 21, 16],\n",
              "         [21, 16, 13],\n",
              "         [20, 15, 12]]], dtype=uint8)\n",
              " orig_shape: (1024, 684)\n",
              " path: '/content/drive/MyDrive/apple_detect/test_apple/two.jpg'\n",
              " probs: ultralytics.engine.results.Probs object\n",
              " save_dir: 'runs/classify/predict2'\n",
              " speed: {'preprocess': 25.4061222076416, 'inference': 3.5331249237060547, 'postprocess': 0.05173683166503906}]"
            ]
          },
          "execution_count": 7,
          "metadata": {},
          "output_type": "execute_result"
        }
      ],
      "source": [
        "from ultralytics import YOLO\n",
        "\n",
        "# Load a pretrained YOLOv8n model\n",
        "model = YOLO('/content/best (2).pt')\n",
        "print(model.names)\n",
        "\n",
        "# Run inference\n",
        "model.predict('/content/drive/MyDrive/apple_detect/test_apple', save=True, imgsz=640, conf=0.4)"
      ]
    }
  ],
  "metadata": {
    "accelerator": "GPU",
    "colab": {
      "gpuType": "T4",
      "provenance": []
    },
    "kernelspec": {
      "display_name": "Python 3",
      "name": "python3"
    },
    "language_info": {
      "name": "python"
    }
  },
  "nbformat": 4,
  "nbformat_minor": 0
}
